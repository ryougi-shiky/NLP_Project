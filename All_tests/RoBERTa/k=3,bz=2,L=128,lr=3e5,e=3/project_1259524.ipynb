{
 "cells": [
  {
   "cell_type": "markdown",
   "metadata": {},
   "source": [
    "# Project: Automated Fact Checking For Climate Science Claims"
   ]
  },
  {
   "cell_type": "markdown",
   "metadata": {},
   "source": [
    "Student Name: Hongda Zhu\n",
    "\n",
    "Student ID: 1259524"
   ]
  },
  {
   "cell_type": "code",
   "execution_count": 40,
   "metadata": {},
   "outputs": [
    {
     "name": "stdout",
     "output_type": "stream",
     "text": [
      "3.8.9 (tags/v3.8.9:a743f81, Apr  6 2021, 14:02:34) [MSC v.1928 64 bit (AMD64)]\n",
      "2.0.0+cu117\n"
     ]
    }
   ],
   "source": [
    "import sys\n",
    "print(sys.version)\n",
    "\n",
    "import torch\n",
    "print(torch.__version__)\n"
   ]
  },
  {
   "attachments": {},
   "cell_type": "markdown",
   "metadata": {},
   "source": [
    "# Load datasets"
   ]
  },
  {
   "cell_type": "code",
   "execution_count": 41,
   "metadata": {},
   "outputs": [
    {
     "name": "stdout",
     "output_type": "stream",
     "text": [
      "Number of train_data:  1228\n",
      "Number of dev_data:  154\n",
      "Number of evidence_data:  1208827\n",
      "Number of test_data:  153\n"
     ]
    }
   ],
   "source": [
    "import json\n",
    "\n",
    "def load_data(filename):\n",
    "    file = open(filename, 'r')\n",
    "    data = json.load(file)\n",
    "    file.close()\n",
    "    return data\n",
    "\n",
    "train_data = load_data(\"train-claims.json\")\n",
    "dev_data = load_data(\"dev-claims.json\")\n",
    "evidence_data = load_data(\"evidence.json\")\n",
    "test_data = load_data(\"test-claims-unlabelled.json\")\n",
    "\n",
    "print(\"Number of train_data: \", len(train_data))\n",
    "print(\"Number of dev_data: \", len(dev_data))\n",
    "print(\"Number of evidence_data: \", len(evidence_data))\n",
    "print(\"Number of test_data: \", len(test_data))\n",
    "\n",
    "# print(\"train_data: \", train_data)\n",
    "# print(\"dev_data: \", dev_data)\n",
    "# print(\"evidence_data: \", evidence_data)\n",
    "# for id, info in train_data.items():\n",
    "#     print(\"claim_id: \", id)\n",
    "#     print(\"claim_text: \", info['claim_text'])\n",
    "#     print(\"claim_label: \", info['claim_label'])\n",
    "#     print(\"evidences: \", info['evidences'])\n",
    "#     print()\n",
    "# print(\"dev_data: \", dev_data)\n",
    "# print(\"evidence_data: \", evidence_data)"
   ]
  },
  {
   "attachments": {},
   "cell_type": "markdown",
   "metadata": {},
   "source": [
    "**Environment variables**\n",
    "\n",
    "You can modify the variable below to change the hyperparameters or the pretrained model."
   ]
  },
  {
   "cell_type": "code",
   "execution_count": 42,
   "metadata": {},
   "outputs": [],
   "source": [
    "import torch\n",
    "\n",
    "k = 3 # Top k relevant evidences\n",
    "max_length_token = 128 # The maximum token length\n",
    "batch_size = 2 # Num of model training samples processed during a single iteration\n",
    "model_type = \"roberta-base\" # Set model to train\n",
    "epochs = 3 # Number of epochs to train\n",
    "lr = 3e-5 # Model learning rate\n",
    "device = torch.device(\"cuda\") # Set cpu or cuda(gpu) to train the model."
   ]
  },
  {
   "attachments": {},
   "cell_type": "markdown",
   "metadata": {},
   "source": [
    "# Preprocessing the data"
   ]
  },
  {
   "attachments": {},
   "cell_type": "markdown",
   "metadata": {},
   "source": [
    "Evidence retrieval"
   ]
  },
  {
   "cell_type": "code",
   "execution_count": 43,
   "metadata": {},
   "outputs": [],
   "source": [
    "from sklearn.feature_extraction.text import TfidfVectorizer\n",
    "from sklearn.metrics.pairwise import cosine_similarity\n",
    "\n",
    "# To retrieve top k relevant evidences for the claim\n",
    "# fit_transform the evidence_text to TF-IDF matrix. transform claim_text to TF-IDF vector\n",
    "# Calculate cosine_similarity on evidence_text and claim_text\n",
    "# Return the top k relevant evidence_ids\n",
    "evidence_texts = list(evidence_data.values())\n",
    "vectorizer = TfidfVectorizer()\n",
    "evidence_texts_tfidf_matrix = vectorizer.fit_transform(evidence_texts)\n",
    "\n",
    "# Retrieve top-k evidence\n",
    "def get_top_k_evidence(claim_text):\n",
    "    claim_text_tfidf_vector = vectorizer.transform([claim_text])\n",
    "    similarities = cosine_similarity(claim_text_tfidf_vector, evidence_texts_tfidf_matrix)\n",
    "    # Get top k relevant evidence_ids\n",
    "    top_k_indices = similarities.argsort()[0][-k:][::-1]\n",
    "    top_k_evidence_ids = []\n",
    "    for index in top_k_indices:\n",
    "        evidence_id = list(evidence_data.keys())[index]\n",
    "        top_k_evidence_ids.append(evidence_id)\n",
    "    return top_k_evidence_ids\n",
    "\n",
    "# for dataset in [train_data, dev_data]:\n",
    "#     for claim_id, claim in dataset.items():\n",
    "#         claim['evidences'] = get_top_k_evidence(claim['claim_text'])"
   ]
  },
  {
   "attachments": {},
   "cell_type": "markdown",
   "metadata": {},
   "source": [
    "Create PyTorch Dataset and DataLoader for claim_label"
   ]
  },
  {
   "cell_type": "code",
   "execution_count": 44,
   "metadata": {},
   "outputs": [
    {
     "name": "stderr",
     "output_type": "stream",
     "text": [
      "Downloading (…)lve/main/config.json: 100%|██████████| 481/481 [00:00<00:00, 161kB/s]\n",
      "Downloading (…)olve/main/vocab.json: 100%|██████████| 899k/899k [00:00<00:00, 1.07MB/s]\n",
      "Downloading (…)olve/main/merges.txt: 100%|██████████| 456k/456k [00:00<00:00, 665kB/s]\n",
      "Downloading (…)/main/tokenizer.json: 100%|██████████| 1.36M/1.36M [00:00<00:00, 2.15MB/s]\n"
     ]
    }
   ],
   "source": [
    "import torch\n",
    "from torch.utils.data import Dataset, DataLoader\n",
    "from transformers import AutoTokenizer\n",
    "\n",
    "tokenizer = AutoTokenizer.from_pretrained(model_type)\n",
    "\n",
    "# Mapping labels to numbers\n",
    "label_mapping = {\n",
    "    \"SUPPORTS\": 0,\n",
    "    \"REFUTES\": 1,\n",
    "    \"NOT_ENOUGH_INFO\": 2,\n",
    "    \"DISPUTED\": 3,\n",
    "}\n",
    "\n",
    "class convertPytorchDataset(Dataset):\n",
    "    def __init__(self, claim_data, evidence_data, tokenizer):\n",
    "        self.claim_data = claim_data\n",
    "        self.evidence_data = evidence_data\n",
    "        self.tokenizer = tokenizer\n",
    "\n",
    "    def __len__(self):\n",
    "        return len(self.claim_data)\n",
    "\n",
    "    def __getitem__(self, idx):\n",
    "        claim_id, claim_data = list(self.claim_data.items())[idx]\n",
    "        claim_text = claim_data[\"claim_text\"]\n",
    "        claim_label = claim_data.get(\"claim_label\", None)\n",
    "\n",
    "        # Retrieve top k evidences for the claim\n",
    "        evidence_ids = get_top_k_evidence(claim_text)\n",
    "        # Concatenate the claim text with the top-k evidence texts\n",
    "        evidence_texts = \" \"\n",
    "        # Get the corresponding evidence text from the evidence_data\n",
    "        for eid in evidence_ids:\n",
    "            evidence_text = evidence_data[eid]\n",
    "            evidence_texts += evidence_text + \" \"\n",
    "        claim_and_evidence_text = claim_text + evidence_texts.rstrip()\n",
    "\n",
    "        # Tokenize claim and evidence\n",
    "        # encode_plus can add special tokens like [CLS], [SEP], and do truncation and padding to the token\n",
    "        # Converts the tokens to a data form that model can process\n",
    "        tokens = self.tokenizer.encode_plus(claim_and_evidence_text, truncation=True, padding=\"max_length\", max_length=max_length_token)\n",
    "\n",
    "        # Convert label to a number if available\n",
    "        if claim_label is not None:\n",
    "            label_num = label_mapping[claim_label]\n",
    "        else:\n",
    "            label_num = -1\n",
    "\n",
    "        item = {\n",
    "            \"input_ids\": torch.tensor(tokens[\"input_ids\"], dtype=torch.long),\n",
    "            \"attention_mask\": torch.tensor(tokens[\"attention_mask\"], dtype=torch.long),\n",
    "            \"claim_id\": claim_id,\n",
    "            \"claim_text\": claim_text,\n",
    "            \"labels\": torch.tensor(label_num, dtype=torch.long),\n",
    "            \"evidences\": evidence_ids\n",
    "        }\n",
    "        return item\n",
    "\n",
    "train_dataset = convertPytorchDataset(train_data, evidence_data, tokenizer)\n",
    "\n",
    "# Packing data into batch for creating dataloader\n",
    "def collate_fn(batch):\n",
    "    batch_list = []\n",
    "    for b in batch:\n",
    "        if b is not None:\n",
    "            batch_list.append(b)\n",
    "    if len(batch_list) == 0:\n",
    "        return None\n",
    "\n",
    "    max_len = 0\n",
    "    for b in batch_list:\n",
    "        current_len = b[\"input_ids\"].shape[0]\n",
    "        if current_len > max_len:\n",
    "            max_len = current_len\n",
    "\n",
    "    # Make sure each tensor is in the same shape, fill them with 0. \n",
    "    # Fill them up to the longest sequence in this batch.\n",
    "    input_ids = torch.zeros(len(batch_list), max_len, dtype=torch.long)\n",
    "    attention_mask = torch.zeros(len(batch_list), max_len, dtype=torch.long)\n",
    "    labels = torch.zeros(len(batch_list), dtype=torch.long)\n",
    "    claim_ids = []\n",
    "    claim_texts = []\n",
    "    evidences = []\n",
    "\n",
    "    for i in range(len(batch_list)):\n",
    "        b = batch_list[i]\n",
    "        cur_len = b[\"input_ids\"].shape[0]\n",
    "        for j in range(cur_len):\n",
    "            input_ids[i, j] = b[\"input_ids\"][j]\n",
    "            attention_mask[i, j] = b[\"attention_mask\"][j]\n",
    "        labels[i] = b[\"labels\"]\n",
    "        claim_ids.append(b[\"claim_id\"])\n",
    "        claim_texts.append(b[\"claim_text\"])\n",
    "        evidences.append(b[\"evidences\"])\n",
    "\n",
    "    return {\"input_ids\": input_ids, \"attention_mask\": attention_mask, \"claim_id\": claim_ids, \"claim_text\": claim_texts, \"claim_label\": labels, \"evidences\": evidences}\n",
    "\n",
    "train_dataloader = DataLoader(train_dataset, batch_size=batch_size, shuffle=True, collate_fn=collate_fn)"
   ]
  },
  {
   "attachments": {},
   "cell_type": "markdown",
   "metadata": {},
   "source": [
    "# Training the model"
   ]
  },
  {
   "cell_type": "code",
   "execution_count": 45,
   "metadata": {},
   "outputs": [
    {
     "name": "stderr",
     "output_type": "stream",
     "text": [
      "Downloading pytorch_model.bin: 100%|██████████| 501M/501M [00:54<00:00, 9.14MB/s] \n",
      "Some weights of the model checkpoint at roberta-base were not used when initializing RobertaForSequenceClassification: ['lm_head.bias', 'roberta.pooler.dense.bias', 'lm_head.layer_norm.bias', 'lm_head.dense.bias', 'lm_head.layer_norm.weight', 'lm_head.dense.weight', 'lm_head.decoder.weight', 'roberta.pooler.dense.weight']\n",
      "- This IS expected if you are initializing RobertaForSequenceClassification from the checkpoint of a model trained on another task or with another architecture (e.g. initializing a BertForSequenceClassification model from a BertForPreTraining model).\n",
      "- This IS NOT expected if you are initializing RobertaForSequenceClassification from the checkpoint of a model that you expect to be exactly identical (initializing a BertForSequenceClassification model from a BertForSequenceClassification model).\n",
      "Some weights of RobertaForSequenceClassification were not initialized from the model checkpoint at roberta-base and are newly initialized: ['classifier.out_proj.bias', 'classifier.dense.weight', 'classifier.dense.bias', 'classifier.out_proj.weight']\n",
      "You should probably TRAIN this model on a down-stream task to be able to use it for predictions and inference.\n"
     ]
    },
    {
     "name": "stdout",
     "output_type": "stream",
     "text": [
      "Training Epoch 1/3\n"
     ]
    },
    {
     "name": "stderr",
     "output_type": "stream",
     "text": [
      "Training: 100%|██████████| 614/614 [10:57<00:00,  1.07s/it]\n"
     ]
    },
    {
     "name": "stdout",
     "output_type": "stream",
     "text": [
      "Train Loss: 1.2808\n",
      "Training Epoch 2/3\n"
     ]
    },
    {
     "name": "stderr",
     "output_type": "stream",
     "text": [
      "Training: 100%|██████████| 614/614 [10:51<00:00,  1.06s/it]\n"
     ]
    },
    {
     "name": "stdout",
     "output_type": "stream",
     "text": [
      "Train Loss: 1.2349\n",
      "Training Epoch 3/3\n"
     ]
    },
    {
     "name": "stderr",
     "output_type": "stream",
     "text": [
      "Training: 100%|██████████| 614/614 [10:55<00:00,  1.07s/it]"
     ]
    },
    {
     "name": "stdout",
     "output_type": "stream",
     "text": [
      "Train Loss: 1.0317\n"
     ]
    },
    {
     "name": "stderr",
     "output_type": "stream",
     "text": [
      "\n"
     ]
    }
   ],
   "source": [
    "from transformers import AutoModelForSequenceClassification\n",
    "from transformers import AdamW, get_linear_schedule_with_warmup\n",
    "from tqdm import tqdm\n",
    "\n",
    "def train_epoch(model, dataloader, optimizer, scheduler, device):\n",
    "    model.train()\n",
    "    total_loss = 0\n",
    "    for batch in tqdm(dataloader, desc=\"Training\"):\n",
    "        optimizer.zero_grad() # Resets the gradients from the previous step to prevent accumulation.\n",
    "\n",
    "        input_ids = batch[\"input_ids\"].to(device)\n",
    "        attention_mask = batch[\"attention_mask\"].to(device)\n",
    "        labels = batch[\"claim_label\"].to(device)\n",
    "\n",
    "        outputs = model(input_ids, attention_mask=attention_mask, labels=labels)\n",
    "        loss = outputs.loss\n",
    "\n",
    "        loss.backward() # Calculates the gradients for each parameter\n",
    "        optimizer.step() # Update parameters based on gradients\n",
    "        scheduler.step() # Update learning rate\n",
    "\n",
    "        total_loss += loss.item()\n",
    "    # Calculate the average loss \n",
    "    avg_loss = total_loss / len(dataloader)\n",
    "    return avg_loss\n",
    "\n",
    "num_labels = len(label_mapping)\n",
    "# Create the model\n",
    "claim_classification_model = AutoModelForSequenceClassification.from_pretrained(model_type, num_labels=num_labels)\n",
    "claim_classification_model.to(device)\n",
    "# To adjust the parameters of model during training\n",
    "optimizer = AdamW(claim_classification_model.parameters(), lr=lr)\n",
    "# To adjust learning rate during training\n",
    "scheduler = get_linear_schedule_with_warmup(optimizer, num_warmup_steps=0, num_training_steps=len(train_dataloader) * epochs)\n",
    "\n",
    "for epoch in range(epochs):\n",
    "    print(f\"Training Epoch {epoch+1}/{epochs}\")\n",
    "    train_loss = train_epoch(claim_classification_model, train_dataloader, optimizer, scheduler, device)\n",
    "    print(f\"Train Loss: {train_loss:.4f}\")"
   ]
  },
  {
   "attachments": {},
   "cell_type": "markdown",
   "metadata": {},
   "source": [
    "# Prediction on test data"
   ]
  },
  {
   "cell_type": "code",
   "execution_count": 46,
   "metadata": {},
   "outputs": [],
   "source": [
    "labelNum_mapping = {\n",
    "    0: \"SUPPORTS\",\n",
    "    1: \"REFUTES\",\n",
    "    2: \"NOT_ENOUGH_INFO\",\n",
    "    3: \"DISPUTED\",\n",
    "}\n",
    "\n",
    "# Prediction function for both dev and test data\n",
    "def save_predictions(claim_classification_model, dataloader, output_file, has_labels=True):\n",
    "    claim_classification_model.eval()\n",
    "    predictions = {} # Store prediction output\n",
    "\n",
    "    for batch in dataloader:\n",
    "        input_ids = batch[\"input_ids\"].to(device)\n",
    "        attention_mask = batch[\"attention_mask\"].to(device)\n",
    "        claim_ids = batch[\"claim_id\"]\n",
    "        claim_texts = batch[\"claim_text\"]\n",
    "        evidences = batch[\"evidences\"]\n",
    "        \n",
    "        with torch.no_grad(): # Disable gradient computation to save memory\n",
    "            # Get prediction result\n",
    "            outputs = claim_classification_model(input_ids, attention_mask=attention_mask)\n",
    "            # Get the most relevant result, and return as a list (1 dimension)\n",
    "            predicted_values, predicted_indices = torch.max(outputs.logits, 1)\n",
    "\n",
    "        for i, claim_id in enumerate(claim_ids):\n",
    "            claim_text = claim_texts[i]\n",
    "            top_evidences = evidences[i]\n",
    "\n",
    "            predictions[claim_id] = {\n",
    "                \"claim_text\": claim_text,\n",
    "                \"claim_label\": labelNum_mapping[predicted_indices[i].item()],\n",
    "                \"evidences\": top_evidences\n",
    "            }\n",
    "\n",
    "    with open(output_file, \"w\") as outfile:\n",
    "        json.dump(predictions, outfile, indent=2)\n",
    "\n",
    "# Predictions on dev data\n",
    "dev_dataset = convertPytorchDataset(dev_data, evidence_data, tokenizer)\n",
    "dev_dataloader = DataLoader(dev_dataset, batch_size=batch_size, shuffle=False, collate_fn=collate_fn)\n",
    "save_predictions(claim_classification_model, dev_dataloader, \"dev_claims_out.json\")\n",
    "\n",
    "# Predict on test data\n",
    "test_dataset = convertPytorchDataset(test_data, evidence_data, tokenizer)\n",
    "test_dataloader = DataLoader(test_dataset, batch_size=2, shuffle=False, collate_fn=collate_fn)\n",
    "save_predictions(claim_classification_model, test_dataloader, \"test-claims-predictions.json\", has_labels=False)"
   ]
  }
 ],
 "metadata": {
  "kernelspec": {
   "display_name": "Python 3.8.9 64-bit",
   "language": "python",
   "name": "python3"
  },
  "language_info": {
   "codemirror_mode": {
    "name": "ipython",
    "version": 3
   },
   "file_extension": ".py",
   "mimetype": "text/x-python",
   "name": "python",
   "nbconvert_exporter": "python",
   "pygments_lexer": "ipython3",
   "version": "3.8.16"
  },
  "vscode": {
   "interpreter": {
    "hash": "570feb405e2e27c949193ac68f46852414290d515b0ba6e5d90d076ed2284471"
   }
  }
 },
 "nbformat": 4,
 "nbformat_minor": 2
}
