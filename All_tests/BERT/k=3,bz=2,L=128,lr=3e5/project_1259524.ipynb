{
 "cells": [
  {
   "cell_type": "markdown",
   "metadata": {},
   "source": [
    "# Project: Automated Fact Checking For Climate Science Claims"
   ]
  },
  {
   "cell_type": "markdown",
   "metadata": {},
   "source": [
    "Student Name: Hongda Zhu\n",
    "\n",
    "Student ID: 1259524"
   ]
  },
  {
   "cell_type": "code",
   "execution_count": 8,
   "metadata": {},
   "outputs": [
    {
     "name": "stdout",
     "output_type": "stream",
     "text": [
      "3.8.9 (tags/v3.8.9:a743f81, Apr  6 2021, 14:02:34) [MSC v.1928 64 bit (AMD64)]\n",
      "2.0.0+cu117\n"
     ]
    }
   ],
   "source": [
    "import sys\n",
    "print(sys.version)\n",
    "\n",
    "import torch\n",
    "print(torch.__version__)\n"
   ]
  },
  {
   "attachments": {},
   "cell_type": "markdown",
   "metadata": {},
   "source": [
    "# Load datasets"
   ]
  },
  {
   "cell_type": "code",
   "execution_count": 9,
   "metadata": {},
   "outputs": [
    {
     "name": "stdout",
     "output_type": "stream",
     "text": [
      "Number of train_data:  1228\n",
      "Number of dev_data:  154\n",
      "Number of evidence_data:  1208827\n",
      "Number of test_data:  153\n"
     ]
    }
   ],
   "source": [
    "import json\n",
    "\n",
    "def load_data(filename):\n",
    "    file = open(filename, 'r')\n",
    "    data = json.load(file)\n",
    "    file.close()\n",
    "    return data\n",
    "\n",
    "train_data = load_data(\"train-claims.json\")\n",
    "dev_data = load_data(\"dev-claims.json\")\n",
    "evidence_data = load_data(\"evidence.json\")\n",
    "test_data = load_data(\"test-claims-unlabelled.json\")\n",
    "\n",
    "print(\"Number of train_data: \", len(train_data))\n",
    "print(\"Number of dev_data: \", len(dev_data))\n",
    "print(\"Number of evidence_data: \", len(evidence_data))\n",
    "print(\"Number of test_data: \", len(test_data))\n",
    "\n",
    "# print(\"train_data: \", train_data)\n",
    "# print(\"dev_data: \", dev_data)\n",
    "# print(\"evidence_data: \", evidence_data)\n",
    "# for id, info in train_data.items():\n",
    "#     print(\"claim_id: \", id)\n",
    "#     print(\"claim_text: \", info['claim_text'])\n",
    "#     print(\"claim_label: \", info['claim_label'])\n",
    "#     print(\"evidences: \", info['evidences'])\n",
    "#     print()\n",
    "# print(\"dev_data: \", dev_data)\n",
    "# print(\"evidence_data: \", evidence_data)"
   ]
  },
  {
   "attachments": {},
   "cell_type": "markdown",
   "metadata": {},
   "source": [
    "Constant variables"
   ]
  },
  {
   "cell_type": "code",
   "execution_count": 10,
   "metadata": {},
   "outputs": [],
   "source": [
    "import torch\n",
    "\n",
    "k = 3\n",
    "max_length_token = 128 # The maximum token length\n",
    "batch_size = 1 \n",
    "model_type = \"bert-base-uncased\"\n",
    "device = torch.device(\"cuda\")"
   ]
  },
  {
   "attachments": {},
   "cell_type": "markdown",
   "metadata": {},
   "source": [
    "# Preprocessing the data"
   ]
  },
  {
   "attachments": {},
   "cell_type": "markdown",
   "metadata": {},
   "source": [
    "Evidence retrieval"
   ]
  },
  {
   "cell_type": "code",
   "execution_count": 11,
   "metadata": {},
   "outputs": [
    {
     "ename": "KeyboardInterrupt",
     "evalue": "",
     "output_type": "error",
     "traceback": [
      "\u001b[1;31m---------------------------------------------------------------------------\u001b[0m",
      "\u001b[1;31mKeyboardInterrupt\u001b[0m                         Traceback (most recent call last)",
      "Cell \u001b[1;32mIn[11], line 6\u001b[0m\n\u001b[0;32m      4\u001b[0m evidence_texts \u001b[39m=\u001b[39m \u001b[39mlist\u001b[39m(evidence_data\u001b[39m.\u001b[39mvalues())\n\u001b[0;32m      5\u001b[0m vectorizer \u001b[39m=\u001b[39m TfidfVectorizer(stop_words\u001b[39m=\u001b[39m\u001b[39m'\u001b[39m\u001b[39menglish\u001b[39m\u001b[39m'\u001b[39m)\n\u001b[1;32m----> 6\u001b[0m evidence_tfidf_matrix \u001b[39m=\u001b[39m vectorizer\u001b[39m.\u001b[39;49mfit_transform(evidence_texts)\n\u001b[0;32m      8\u001b[0m \u001b[39m# Retrieve top-k evidence\u001b[39;00m\n\u001b[0;32m      9\u001b[0m \u001b[39mdef\u001b[39;00m \u001b[39mget_top_k_evidence\u001b[39m(claim):\n",
      "File \u001b[1;32mc:\\Program Files\\Python38\\lib\\site-packages\\sklearn\\feature_extraction\\text.py:2133\u001b[0m, in \u001b[0;36mTfidfVectorizer.fit_transform\u001b[1;34m(self, raw_documents, y)\u001b[0m\n\u001b[0;32m   2126\u001b[0m \u001b[39mself\u001b[39m\u001b[39m.\u001b[39m_check_params()\n\u001b[0;32m   2127\u001b[0m \u001b[39mself\u001b[39m\u001b[39m.\u001b[39m_tfidf \u001b[39m=\u001b[39m TfidfTransformer(\n\u001b[0;32m   2128\u001b[0m     norm\u001b[39m=\u001b[39m\u001b[39mself\u001b[39m\u001b[39m.\u001b[39mnorm,\n\u001b[0;32m   2129\u001b[0m     use_idf\u001b[39m=\u001b[39m\u001b[39mself\u001b[39m\u001b[39m.\u001b[39muse_idf,\n\u001b[0;32m   2130\u001b[0m     smooth_idf\u001b[39m=\u001b[39m\u001b[39mself\u001b[39m\u001b[39m.\u001b[39msmooth_idf,\n\u001b[0;32m   2131\u001b[0m     sublinear_tf\u001b[39m=\u001b[39m\u001b[39mself\u001b[39m\u001b[39m.\u001b[39msublinear_tf,\n\u001b[0;32m   2132\u001b[0m )\n\u001b[1;32m-> 2133\u001b[0m X \u001b[39m=\u001b[39m \u001b[39msuper\u001b[39;49m()\u001b[39m.\u001b[39;49mfit_transform(raw_documents)\n\u001b[0;32m   2134\u001b[0m \u001b[39mself\u001b[39m\u001b[39m.\u001b[39m_tfidf\u001b[39m.\u001b[39mfit(X)\n\u001b[0;32m   2135\u001b[0m \u001b[39m# X is already a transformed view of raw_documents so\u001b[39;00m\n\u001b[0;32m   2136\u001b[0m \u001b[39m# we set copy to False\u001b[39;00m\n",
      "File \u001b[1;32mc:\\Program Files\\Python38\\lib\\site-packages\\sklearn\\feature_extraction\\text.py:1388\u001b[0m, in \u001b[0;36mCountVectorizer.fit_transform\u001b[1;34m(self, raw_documents, y)\u001b[0m\n\u001b[0;32m   1380\u001b[0m             warnings\u001b[39m.\u001b[39mwarn(\n\u001b[0;32m   1381\u001b[0m                 \u001b[39m\"\u001b[39m\u001b[39mUpper case characters found in\u001b[39m\u001b[39m\"\u001b[39m\n\u001b[0;32m   1382\u001b[0m                 \u001b[39m\"\u001b[39m\u001b[39m vocabulary while \u001b[39m\u001b[39m'\u001b[39m\u001b[39mlowercase\u001b[39m\u001b[39m'\u001b[39m\u001b[39m\"\u001b[39m\n\u001b[0;32m   1383\u001b[0m                 \u001b[39m\"\u001b[39m\u001b[39m is True. These entries will not\u001b[39m\u001b[39m\"\u001b[39m\n\u001b[0;32m   1384\u001b[0m                 \u001b[39m\"\u001b[39m\u001b[39m be matched with any documents\u001b[39m\u001b[39m\"\u001b[39m\n\u001b[0;32m   1385\u001b[0m             )\n\u001b[0;32m   1386\u001b[0m             \u001b[39mbreak\u001b[39;00m\n\u001b[1;32m-> 1388\u001b[0m vocabulary, X \u001b[39m=\u001b[39m \u001b[39mself\u001b[39;49m\u001b[39m.\u001b[39;49m_count_vocab(raw_documents, \u001b[39mself\u001b[39;49m\u001b[39m.\u001b[39;49mfixed_vocabulary_)\n\u001b[0;32m   1390\u001b[0m \u001b[39mif\u001b[39;00m \u001b[39mself\u001b[39m\u001b[39m.\u001b[39mbinary:\n\u001b[0;32m   1391\u001b[0m     X\u001b[39m.\u001b[39mdata\u001b[39m.\u001b[39mfill(\u001b[39m1\u001b[39m)\n",
      "File \u001b[1;32mc:\\Program Files\\Python38\\lib\\site-packages\\sklearn\\feature_extraction\\text.py:1279\u001b[0m, in \u001b[0;36mCountVectorizer._count_vocab\u001b[1;34m(self, raw_documents, fixed_vocab)\u001b[0m\n\u001b[0;32m   1277\u001b[0m feature_idx \u001b[39m=\u001b[39m vocabulary[feature]\n\u001b[0;32m   1278\u001b[0m \u001b[39mif\u001b[39;00m feature_idx \u001b[39mnot\u001b[39;00m \u001b[39min\u001b[39;00m feature_counter:\n\u001b[1;32m-> 1279\u001b[0m     feature_counter[feature_idx] \u001b[39m=\u001b[39m \u001b[39m1\u001b[39m\n\u001b[0;32m   1280\u001b[0m \u001b[39melse\u001b[39;00m:\n\u001b[0;32m   1281\u001b[0m     feature_counter[feature_idx] \u001b[39m+\u001b[39m\u001b[39m=\u001b[39m \u001b[39m1\u001b[39m\n",
      "\u001b[1;31mKeyboardInterrupt\u001b[0m: "
     ]
    }
   ],
   "source": [
    "from sklearn.feature_extraction.text import TfidfVectorizer\n",
    "from sklearn.metrics.pairwise import cosine_similarity\n",
    "\n",
    "evidence_texts = list(evidence_data.values())\n",
    "vectorizer = TfidfVectorizer(stop_words='english')\n",
    "evidence_tfidf_matrix = vectorizer.fit_transform(evidence_texts)\n",
    "\n",
    "# Retrieve top-k evidence\n",
    "def get_top_k_evidence(claim):\n",
    "    claim_tfidf_vector = vectorizer.transform([claim])\n",
    "    similarities = cosine_similarity(claim_tfidf_vector, evidence_tfidf_matrix)\n",
    "    top_k_indices = similarities.argsort()[0][-k:][::-1]\n",
    "    top_k_evidence_ids = [list(evidence_data.keys())[index] for index in top_k_indices]\n",
    "    return top_k_evidence_ids\n",
    "\n",
    "# for dataset in [train_data, dev_data]:\n",
    "#     for claim_id, claim in dataset.items():\n",
    "#         claim['evidences'] = get_top_k_evidence(claim['claim_text'])"
   ]
  },
  {
   "attachments": {},
   "cell_type": "markdown",
   "metadata": {},
   "source": [
    "Create PyTorch Dataset and DataLoader for claim_label"
   ]
  },
  {
   "cell_type": "code",
   "execution_count": null,
   "metadata": {},
   "outputs": [
    {
     "name": "stderr",
     "output_type": "stream",
     "text": [
      "c:\\Program Files\\Python38\\lib\\site-packages\\tqdm\\auto.py:21: TqdmWarning: IProgress not found. Please update jupyter and ipywidgets. See https://ipywidgets.readthedocs.io/en/stable/user_install.html\n",
      "  from .autonotebook import tqdm as notebook_tqdm\n"
     ]
    }
   ],
   "source": [
    "import torch\n",
    "from torch.utils.data import Dataset, DataLoader\n",
    "from transformers import AutoTokenizer\n",
    "\n",
    "tokenizer = AutoTokenizer.from_pretrained(model_type)\n",
    "\n",
    "class convertPytorchDataset(Dataset):\n",
    "    def __init__(self, claim_data, evidence_data, tokenizer, label_mapping):\n",
    "        self.claim_data = claim_data\n",
    "        self.evidence_data = evidence_data\n",
    "        self.tokenizer = tokenizer\n",
    "        self.label_mapping = label_mapping\n",
    "\n",
    "    def __len__(self):\n",
    "        return len(self.claim_data)\n",
    "\n",
    "    def __getitem__(self, idx):\n",
    "        claim_id, claim_data = list(self.claim_data.items())[idx]\n",
    "        claim_text = claim_data[\"claim_text\"]\n",
    "        claim_label = claim_data.get(\"claim_label\", None)\n",
    "\n",
    "        # Retrieve top k evidences for the claim\n",
    "        evidence_ids = get_top_k_evidence(claim_text)\n",
    "\n",
    "        \n",
    "        # Concatenate the claim text with the top-k evidence texts\n",
    "        claim_and_evidence_text = claim_text + \" \".join([evidence_data[eid] for eid in evidence_ids])\n",
    "        # Tokenize claim and evidence\n",
    "        tokens = self.tokenizer.encode_plus(claim_and_evidence_text, truncation=True, padding=\"max_length\", max_length=max_length_token)\n",
    "\n",
    "        # Convert label to a number if available\n",
    "        if claim_label is not None:\n",
    "            label = self.label_mapping[claim_label]\n",
    "        else:\n",
    "            label = -1\n",
    "\n",
    "        item = {\n",
    "            \"input_ids\": torch.tensor(tokens[\"input_ids\"], dtype=torch.long),\n",
    "            \"attention_mask\": torch.tensor(tokens[\"attention_mask\"], dtype=torch.long),\n",
    "            \"claim_id\": claim_id,\n",
    "            \"claim_text\": claim_text,\n",
    "            \"labels\": torch.tensor(label, dtype=torch.long),\n",
    "            \"evidences\": evidence_ids\n",
    "        }\n",
    "\n",
    "        return item\n",
    "\n",
    "\n",
    "# Convert labels to numbers\n",
    "label_mapping = {\n",
    "    \"SUPPORTS\": 0,\n",
    "    \"REFUTES\": 1,\n",
    "    \"NOT_ENOUGH_INFO\": 2,\n",
    "    \"DISPUTED\": 3,\n",
    "}\n",
    "\n",
    "train_dataset = convertPytorchDataset(train_data, evidence_data, tokenizer, label_mapping)\n",
    "dev_dataset = convertPytorchDataset(dev_data, evidence_data, tokenizer, label_mapping)\n",
    "\n",
    "def collate_fn(batch):\n",
    "    non_empty_batch = [x for x in batch if x is not None]\n",
    "    if len(non_empty_batch) == 0:\n",
    "        return None\n",
    "\n",
    "    max_len = max([x[\"input_ids\"].shape[0] for x in non_empty_batch])\n",
    "    input_ids = torch.zeros(len(non_empty_batch), max_len, dtype=torch.long)\n",
    "    attention_mask = torch.zeros(len(non_empty_batch), max_len, dtype=torch.long)\n",
    "    labels = torch.zeros(len(non_empty_batch), dtype=torch.long)\n",
    "    claim_ids = []\n",
    "    claim_texts = []\n",
    "    evidences = []\n",
    "\n",
    "    for i, x in enumerate(non_empty_batch):\n",
    "        cur_len = x[\"input_ids\"].shape[0]\n",
    "        input_ids[i, :cur_len] = x[\"input_ids\"]\n",
    "        attention_mask[i, :cur_len] = x[\"attention_mask\"]\n",
    "        labels[i] = x[\"labels\"]\n",
    "        claim_ids.append(x[\"claim_id\"])\n",
    "        claim_texts.append(x[\"claim_text\"])\n",
    "        evidences.append(x[\"evidences\"])\n",
    "\n",
    "    return {\"input_ids\": input_ids, \"attention_mask\": attention_mask, \"claim_id\": claim_ids, \"claim_text\": claim_texts, \"labels\": labels, \"evidences\": evidences}\n",
    "\n",
    "\n",
    "\n",
    "train_dataloader = DataLoader(train_dataset, batch_size=batch_size, shuffle=True, collate_fn=collate_fn)\n",
    "dev_dataloader = DataLoader(dev_dataset, batch_size=batch_size, shuffle=False, collate_fn=collate_fn)\n"
   ]
  },
  {
   "attachments": {},
   "cell_type": "markdown",
   "metadata": {},
   "source": [
    "# Training the model"
   ]
  },
  {
   "cell_type": "code",
   "execution_count": null,
   "metadata": {},
   "outputs": [
    {
     "name": "stderr",
     "output_type": "stream",
     "text": [
      "Some weights of the model checkpoint at bert-base-uncased were not used when initializing BertForSequenceClassification: ['cls.predictions.transform.LayerNorm.bias', 'cls.seq_relationship.weight', 'cls.predictions.transform.dense.bias', 'cls.predictions.bias', 'cls.seq_relationship.bias', 'cls.predictions.transform.LayerNorm.weight', 'cls.predictions.transform.dense.weight', 'cls.predictions.decoder.weight']\n",
      "- This IS expected if you are initializing BertForSequenceClassification from the checkpoint of a model trained on another task or with another architecture (e.g. initializing a BertForSequenceClassification model from a BertForPreTraining model).\n",
      "- This IS NOT expected if you are initializing BertForSequenceClassification from the checkpoint of a model that you expect to be exactly identical (initializing a BertForSequenceClassification model from a BertForSequenceClassification model).\n",
      "Some weights of BertForSequenceClassification were not initialized from the model checkpoint at bert-base-uncased and are newly initialized: ['classifier.bias', 'classifier.weight']\n",
      "You should probably TRAIN this model on a down-stream task to be able to use it for predictions and inference.\n",
      "c:\\Program Files\\Python38\\lib\\site-packages\\transformers\\optimization.py:391: FutureWarning: This implementation of AdamW is deprecated and will be removed in a future version. Use the PyTorch implementation torch.optim.AdamW instead, or set `no_deprecation_warning=True` to disable this warning\n",
      "  warnings.warn(\n",
      "Some weights of the model checkpoint at bert-base-uncased were not used when initializing BertForSequenceClassification: ['cls.predictions.transform.LayerNorm.bias', 'cls.seq_relationship.weight', 'cls.predictions.transform.dense.bias', 'cls.predictions.bias', 'cls.seq_relationship.bias', 'cls.predictions.transform.LayerNorm.weight', 'cls.predictions.transform.dense.weight', 'cls.predictions.decoder.weight']\n",
      "- This IS expected if you are initializing BertForSequenceClassification from the checkpoint of a model trained on another task or with another architecture (e.g. initializing a BertForSequenceClassification model from a BertForPreTraining model).\n",
      "- This IS NOT expected if you are initializing BertForSequenceClassification from the checkpoint of a model that you expect to be exactly identical (initializing a BertForSequenceClassification model from a BertForSequenceClassification model).\n",
      "Some weights of BertForSequenceClassification were not initialized from the model checkpoint at bert-base-uncased and are newly initialized: ['classifier.bias', 'classifier.weight']\n",
      "You should probably TRAIN this model on a down-stream task to be able to use it for predictions and inference.\n"
     ]
    },
    {
     "name": "stdout",
     "output_type": "stream",
     "text": [
      "Epoch 1/3 (Claim Classification)\n"
     ]
    },
    {
     "name": "stderr",
     "output_type": "stream",
     "text": [
      "Training: 100%|██████████| 614/614 [07:18<00:00,  1.40it/s]\n"
     ]
    },
    {
     "name": "stdout",
     "output_type": "stream",
     "text": [
      "Train Loss: 1.2640\n",
      "Epoch 2/3 (Claim Classification)\n"
     ]
    },
    {
     "name": "stderr",
     "output_type": "stream",
     "text": [
      "Training: 100%|██████████| 614/614 [07:12<00:00,  1.42it/s]\n"
     ]
    },
    {
     "name": "stdout",
     "output_type": "stream",
     "text": [
      "Train Loss: 1.1336\n",
      "Epoch 3/3 (Claim Classification)\n"
     ]
    },
    {
     "name": "stderr",
     "output_type": "stream",
     "text": [
      "Training: 100%|██████████| 614/614 [07:13<00:00,  1.42it/s]"
     ]
    },
    {
     "name": "stdout",
     "output_type": "stream",
     "text": [
      "Train Loss: 0.7094\n"
     ]
    },
    {
     "name": "stderr",
     "output_type": "stream",
     "text": [
      "\n"
     ]
    }
   ],
   "source": [
    "from transformers import AutoModelForSequenceClassification\n",
    "from transformers import AdamW, get_linear_schedule_with_warmup\n",
    "\n",
    "num_labels = len(label_mapping)\n",
    "model = AutoModelForSequenceClassification.from_pretrained(model_type, num_labels=num_labels)\n",
    "model.to(device)\n",
    "\n",
    "epochs = 3\n",
    "lr = 3e-5\n",
    "\n",
    "optimizer = AdamW(model.parameters(), lr=lr)\n",
    "scheduler = get_linear_schedule_with_warmup(optimizer, num_warmup_steps=0, num_training_steps=len(train_dataloader) * epochs)\n",
    "\n",
    "from tqdm import tqdm\n",
    "\n",
    "def train_epoch(model, dataloader, optimizer, scheduler, device):\n",
    "    model.train()\n",
    "    total_loss = 0\n",
    "    for batch in tqdm(dataloader, desc=\"Training\"):\n",
    "        optimizer.zero_grad()\n",
    "\n",
    "        input_ids = batch[\"input_ids\"].to(device)\n",
    "        attention_mask = batch[\"attention_mask\"].to(device)\n",
    "        labels = batch[\"labels\"].to(device)\n",
    "\n",
    "        outputs = model(input_ids, attention_mask=attention_mask, labels=labels)\n",
    "        loss = outputs.loss\n",
    "\n",
    "        loss.backward()\n",
    "        optimizer.step()\n",
    "        scheduler.step()\n",
    "\n",
    "        total_loss += loss.item()\n",
    "\n",
    "    avg_loss = total_loss / len(dataloader)\n",
    "    return avg_loss\n",
    "\n",
    "# Training the claim classification model\n",
    "claim_classification_model = AutoModelForSequenceClassification.from_pretrained(model_type, num_labels=num_labels)\n",
    "claim_classification_model.to(device)\n",
    "\n",
    "optimizer = AdamW(claim_classification_model.parameters(), lr=lr)\n",
    "scheduler = get_linear_schedule_with_warmup(optimizer, num_warmup_steps=0, num_training_steps=len(train_dataloader) * epochs)\n",
    "\n",
    "for epoch in range(epochs):\n",
    "    print(f\"Epoch {epoch+1}/{epochs} (Claim Classification)\")\n",
    "    train_loss = train_epoch(claim_classification_model, train_dataloader, optimizer, scheduler, device)\n",
    "    print(f\"Train Loss: {train_loss:.4f}\")"
   ]
  },
  {
   "attachments": {},
   "cell_type": "markdown",
   "metadata": {},
   "source": [
    "# Prediction on test data"
   ]
  },
  {
   "cell_type": "code",
   "execution_count": null,
   "metadata": {},
   "outputs": [],
   "source": [
    "label_mapping_inverse = {v: k for k, v in label_mapping.items()}\n",
    "# Prediction function for both dev and test data\n",
    "def save_predictions(claim_classification_model, dataloader, output_file, has_labels=True):\n",
    "    claim_classification_model.eval()\n",
    "    predictions = {}\n",
    "\n",
    "    for batch in dataloader:\n",
    "        input_ids = batch[\"input_ids\"].to(device)\n",
    "        attention_mask = batch[\"attention_mask\"].to(device)\n",
    "        claim_ids = batch[\"claim_id\"]\n",
    "        claim_texts = batch[\"claim_text\"]\n",
    "        evidences = batch[\"evidences\"]\n",
    "\n",
    "        with torch.no_grad():\n",
    "            outputs = claim_classification_model(input_ids, attention_mask=attention_mask)\n",
    "            _, predicted = torch.max(outputs.logits, 1)\n",
    "\n",
    "        for idx, claim_id in enumerate(claim_ids):\n",
    "            claim_text = claim_texts[idx]\n",
    "            top_evidence = evidences[idx]\n",
    "\n",
    "            predictions[claim_id] = {\n",
    "                \"claim_text\": claim_text,\n",
    "                \"claim_label\": label_mapping_inverse[predicted[idx].item()],\n",
    "                \"evidences\": top_evidence\n",
    "            }\n",
    "\n",
    "    with open(output_file, \"w\") as outfile:\n",
    "        json.dump(predictions, outfile, indent=2)\n",
    "\n",
    "# Save predictions on dev data\n",
    "save_predictions(claim_classification_model, dev_dataloader, \"dev_claims_out.json\")\n",
    "\n",
    "# Save predictions on test data\n",
    "test_dataset = convertPytorchDataset(test_data, evidence_data, tokenizer, label_mapping)\n",
    "test_dataloader = DataLoader(test_dataset, batch_size=2, shuffle=False, collate_fn=collate_fn)\n",
    "save_predictions(claim_classification_model, test_dataloader, \"test-claims-predictions.json\", has_labels=False)"
   ]
  }
 ],
 "metadata": {
  "kernelspec": {
   "display_name": "Python 3.8.9 64-bit",
   "language": "python",
   "name": "python3"
  },
  "language_info": {
   "codemirror_mode": {
    "name": "ipython",
    "version": 3
   },
   "file_extension": ".py",
   "mimetype": "text/x-python",
   "name": "python",
   "nbconvert_exporter": "python",
   "pygments_lexer": "ipython3",
   "version": "3.8.16"
  },
  "vscode": {
   "interpreter": {
    "hash": "570feb405e2e27c949193ac68f46852414290d515b0ba6e5d90d076ed2284471"
   }
  }
 },
 "nbformat": 4,
 "nbformat_minor": 2
}
