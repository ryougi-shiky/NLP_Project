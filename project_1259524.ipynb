{
 "cells": [
  {
   "cell_type": "markdown",
   "metadata": {},
   "source": [
    "# Project: Automated Fact Checking For Climate Science Claims"
   ]
  },
  {
   "cell_type": "markdown",
   "metadata": {},
   "source": [
    "Student Name: Hongda Zhu\n",
    "\n",
    "Student ID: 1259524"
   ]
  },
  {
   "attachments": {},
   "cell_type": "markdown",
   "metadata": {},
   "source": [
    "This notebook builds a Automated Fact Checking System for 2023 COMP90042 Natural Language Processing Project.\n",
    "\n",
    "Note:\n",
    "1. Make sure all data file are loaded.\n",
    "2. Change the Environment Variables block. Set the parameters to run.\n",
    "3. Run eval.py to test the model. python eval.py --predictions output.json --groundtruth check_answers.json"
   ]
  },
  {
   "cell_type": "code",
   "execution_count": 1,
   "metadata": {},
   "outputs": [
    {
     "name": "stdout",
     "output_type": "stream",
     "text": [
      "3.8.16 (default, Mar  1 2023, 21:19:10) \n",
      "[Clang 14.0.6 ]\n",
      "1.13.1\n"
     ]
    }
   ],
   "source": [
    "import sys\n",
    "print(sys.version)\n",
    "\n",
    "import torch\n",
    "print(torch.__version__)\n"
   ]
  },
  {
   "attachments": {},
   "cell_type": "markdown",
   "metadata": {},
   "source": [
    "# Load datasets"
   ]
  },
  {
   "cell_type": "code",
   "execution_count": 2,
   "metadata": {},
   "outputs": [
    {
     "name": "stdout",
     "output_type": "stream",
     "text": [
      "Number of train_data:  1228\n",
      "Number of dev_data:  154\n",
      "Number of evidence_data:  1208827\n",
      "Number of test_data:  153\n",
      "Number of merged_data:  1382\n"
     ]
    }
   ],
   "source": [
    "import json\n",
    "\n",
    "def load_data(filename):\n",
    "    file = open(filename, 'r')\n",
    "    data = json.load(file)\n",
    "    file.close()\n",
    "    return data\n",
    "\n",
    "train_data = load_data(\"train-claims.json\")\n",
    "dev_data = load_data(\"dev-claims.json\")\n",
    "evidence_data = load_data(\"evidence.json\")\n",
    "test_data = load_data(\"test-claims-unlabelled.json\")\n",
    "# Merge train_data and dev_data to a larger dataset\n",
    "merged_data = train_data.copy()  \n",
    "merged_data.update(dev_data) \n",
    "\n",
    "print(\"Number of train_data: \", len(train_data))\n",
    "print(\"Number of dev_data: \", len(dev_data))\n",
    "print(\"Number of evidence_data: \", len(evidence_data))\n",
    "print(\"Number of test_data: \", len(test_data))\n",
    "print(\"Number of merged_data: \", len(merged_data))"
   ]
  },
  {
   "attachments": {},
   "cell_type": "markdown",
   "metadata": {},
   "source": [
    "**Environment variables**\n",
    "\n",
    "You can modify the variable below to change the hyperparameters or the pretrained model."
   ]
  },
  {
   "cell_type": "code",
   "execution_count": 3,
   "metadata": {},
   "outputs": [],
   "source": [
    "import torch\n",
    "\n",
    "k = 3 # Top k relevant evidences\n",
    "max_length_token = 128 # The maximum token length\n",
    "batch_size = 2 # Num of model training samples processed during a single iteration\n",
    "model_type = \"bert-base-uncased\" # Set model to train. You can switch it to roberta-base or bert-base-uncased\n",
    "epochs = 3 # Number of epochs to train\n",
    "lr = 3e-5 # Model learning rate\n",
    "device = torch.device(\"cpu\") # Set cpu or cuda(gpu) to train the model.\n",
    "use_merged_data = False # Use megred_data to train the model"
   ]
  },
  {
   "attachments": {},
   "cell_type": "markdown",
   "metadata": {},
   "source": [
    "# Preprocessing the data"
   ]
  },
  {
   "attachments": {},
   "cell_type": "markdown",
   "metadata": {},
   "source": [
    "Evidence retrieval"
   ]
  },
  {
   "cell_type": "code",
   "execution_count": 4,
   "metadata": {},
   "outputs": [],
   "source": [
    "from sklearn.feature_extraction.text import TfidfVectorizer\n",
    "from sklearn.metrics.pairwise import cosine_similarity\n",
    "\n",
    "# To retrieve top k relevant evidences for the claim\n",
    "# fit_transform the evidence_text to TF-IDF matrix. transform claim_text to TF-IDF vector\n",
    "# Calculate cosine_similarity on evidence_text and claim_text\n",
    "# Return the top k relevant evidence_ids\n",
    "evidence_texts = list(evidence_data.values())\n",
    "vectorizer = TfidfVectorizer()\n",
    "evidence_texts_tfidf_matrix = vectorizer.fit_transform(evidence_texts)\n",
    "\n",
    "# Retrieve top-k evidence\n",
    "def get_top_k_evidence(claim_text):\n",
    "    claim_text_tfidf_vector = vectorizer.transform([claim_text])\n",
    "    similarities = cosine_similarity(claim_text_tfidf_vector, evidence_texts_tfidf_matrix)\n",
    "    # Get top k relevant evidence_ids\n",
    "    top_k_indices = similarities.argsort()[0][-k:][::-1]\n",
    "    top_k_evidence_ids = []\n",
    "    for index in top_k_indices:\n",
    "        evidence_id = list(evidence_data.keys())[index]\n",
    "        top_k_evidence_ids.append(evidence_id)\n",
    "    return top_k_evidence_ids\n",
    "\n",
    "# for dataset in [train_data, dev_data]:\n",
    "#     for claim_id, claim in dataset.items():\n",
    "#         claim['evidences'] = get_top_k_evidence(claim['claim_text'])"
   ]
  },
  {
   "attachments": {},
   "cell_type": "markdown",
   "metadata": {},
   "source": [
    "Create PyTorch Dataset and DataLoader for claim_label"
   ]
  },
  {
   "cell_type": "code",
   "execution_count": 5,
   "metadata": {},
   "outputs": [],
   "source": [
    "import torch\n",
    "from torch.utils.data import Dataset, DataLoader\n",
    "from transformers import AutoTokenizer\n",
    "\n",
    "tokenizer = AutoTokenizer.from_pretrained(model_type)\n",
    "\n",
    "# Mapping labels to numbers\n",
    "label_mapping = {\n",
    "    \"SUPPORTS\": 0,\n",
    "    \"REFUTES\": 1,\n",
    "    \"NOT_ENOUGH_INFO\": 2,\n",
    "    \"DISPUTED\": 3,\n",
    "}\n",
    "\n",
    "class convertPytorchDataset(Dataset):\n",
    "    def __init__(self, claim_data, evidence_data, tokenizer):\n",
    "        self.claim_data = claim_data\n",
    "        self.evidence_data = evidence_data\n",
    "        self.tokenizer = tokenizer\n",
    "\n",
    "    def __len__(self):\n",
    "        return len(self.claim_data)\n",
    "\n",
    "    def __getitem__(self, idx):\n",
    "        claim_id, claim_data = list(self.claim_data.items())[idx]\n",
    "        claim_text = claim_data[\"claim_text\"]\n",
    "        claim_label = claim_data.get(\"claim_label\", None)\n",
    "\n",
    "        # Retrieve top k evidences for the claim\n",
    "        evidence_ids = get_top_k_evidence(claim_text)\n",
    "        # Concatenate the claim text with the top-k evidence texts\n",
    "        evidence_texts = \" \"\n",
    "        # Get the corresponding evidence text from the evidence_data\n",
    "        for eid in evidence_ids:\n",
    "            evidence_text = evidence_data[eid]\n",
    "            evidence_texts += evidence_text + \" \"\n",
    "        claim_and_evidence_text = claim_text + evidence_texts.rstrip()\n",
    "\n",
    "        # Tokenize claim and evidence\n",
    "        # encode_plus can add special tokens like [CLS], [SEP], and do truncation and padding to the token\n",
    "        # Converts the tokens to a data form that model can process\n",
    "        tokens = self.tokenizer.encode_plus(claim_and_evidence_text, truncation=True, padding=\"max_length\", max_length=max_length_token)\n",
    "\n",
    "        # Convert label to a number if available\n",
    "        if claim_label is not None:\n",
    "            label_num = label_mapping[claim_label]\n",
    "        else:\n",
    "            label_num = -1\n",
    "\n",
    "        item = {\n",
    "            \"input_ids\": torch.tensor(tokens[\"input_ids\"], dtype=torch.long),\n",
    "            \"attention_mask\": torch.tensor(tokens[\"attention_mask\"], dtype=torch.long),\n",
    "            \"claim_id\": claim_id,\n",
    "            \"claim_text\": claim_text,\n",
    "            \"labels\": torch.tensor(label_num, dtype=torch.long),\n",
    "            \"evidences\": evidence_ids\n",
    "        }\n",
    "        return item\n",
    "\n",
    "\n",
    "# Packing data into batch for creating dataloader\n",
    "def collate_fn(batch):\n",
    "    batch_list = []\n",
    "    for b in batch:\n",
    "        if b is not None:\n",
    "            batch_list.append(b)\n",
    "    if len(batch_list) == 0:\n",
    "        return None\n",
    "\n",
    "    max_len = 0\n",
    "    for b in batch_list:\n",
    "        current_len = b[\"input_ids\"].shape[0]\n",
    "        if current_len > max_len:\n",
    "            max_len = current_len\n",
    "\n",
    "    # Make sure each tensor is in the same shape, fill them with 0 if not consistent. \n",
    "    # Fill them up to the longest sequence in this batch.\n",
    "    input_ids = torch.zeros(len(batch_list), max_len, dtype=torch.long)\n",
    "    attention_mask = torch.zeros(len(batch_list), max_len, dtype=torch.long)\n",
    "    labels = torch.zeros(len(batch_list), dtype=torch.long)\n",
    "    claim_ids = []\n",
    "    claim_texts = []\n",
    "    evidences = []\n",
    "\n",
    "    for i in range(len(batch_list)):\n",
    "        b = batch_list[i]\n",
    "        cur_len = b[\"input_ids\"].shape[0]\n",
    "        for j in range(cur_len):\n",
    "            input_ids[i, j] = b[\"input_ids\"][j]\n",
    "            attention_mask[i, j] = b[\"attention_mask\"][j]\n",
    "        labels[i] = b[\"labels\"]\n",
    "        claim_ids.append(b[\"claim_id\"])\n",
    "        claim_texts.append(b[\"claim_text\"])\n",
    "        evidences.append(b[\"evidences\"])\n",
    "\n",
    "    return {\"input_ids\": input_ids, \"attention_mask\": attention_mask, \"claim_id\": claim_ids, \"claim_text\": claim_texts, \"claim_label\": labels, \"evidences\": evidences}\n"
   ]
  },
  {
   "attachments": {},
   "cell_type": "markdown",
   "metadata": {},
   "source": [
    "# Training the model"
   ]
  },
  {
   "cell_type": "code",
   "execution_count": 6,
   "metadata": {},
   "outputs": [
    {
     "name": "stderr",
     "output_type": "stream",
     "text": [
      "Some weights of the model checkpoint at bert-base-uncased were not used when initializing BertForSequenceClassification: ['cls.predictions.transform.LayerNorm.bias', 'cls.predictions.bias', 'cls.predictions.decoder.weight', 'cls.seq_relationship.bias', 'cls.predictions.transform.dense.bias', 'cls.predictions.transform.LayerNorm.weight', 'cls.seq_relationship.weight', 'cls.predictions.transform.dense.weight']\n",
      "- This IS expected if you are initializing BertForSequenceClassification from the checkpoint of a model trained on another task or with another architecture (e.g. initializing a BertForSequenceClassification model from a BertForPreTraining model).\n",
      "- This IS NOT expected if you are initializing BertForSequenceClassification from the checkpoint of a model that you expect to be exactly identical (initializing a BertForSequenceClassification model from a BertForSequenceClassification model).\n",
      "Some weights of BertForSequenceClassification were not initialized from the model checkpoint at bert-base-uncased and are newly initialized: ['classifier.bias', 'classifier.weight']\n",
      "You should probably TRAIN this model on a down-stream task to be able to use it for predictions and inference.\n",
      "/Users/shikiryougi/miniconda3/envs/py38/lib/python3.8/site-packages/transformers/optimization.py:306: FutureWarning: This implementation of AdamW is deprecated and will be removed in a future version. Use the PyTorch implementation torch.optim.AdamW instead, or set `no_deprecation_warning=True` to disable this warning\n",
      "  warnings.warn(\n"
     ]
    },
    {
     "name": "stdout",
     "output_type": "stream",
     "text": [
      "Training Epoch 1/3\n"
     ]
    },
    {
     "name": "stderr",
     "output_type": "stream",
     "text": [
      "Training:  38%|███▊      | 233/614 [17:39<28:52,  4.55s/it]\n"
     ]
    },
    {
     "ename": "KeyboardInterrupt",
     "evalue": "",
     "output_type": "error",
     "traceback": [
      "\u001b[0;31m---------------------------------------------------------------------------\u001b[0m",
      "\u001b[0;31mKeyboardInterrupt\u001b[0m                         Traceback (most recent call last)",
      "Cell \u001b[0;32mIn[6], line 45\u001b[0m\n\u001b[1;32m     43\u001b[0m \u001b[39mfor\u001b[39;00m epoch \u001b[39min\u001b[39;00m \u001b[39mrange\u001b[39m(epochs):\n\u001b[1;32m     44\u001b[0m     \u001b[39mprint\u001b[39m(\u001b[39mf\u001b[39m\u001b[39m\"\u001b[39m\u001b[39mTraining Epoch \u001b[39m\u001b[39m{\u001b[39;00mepoch\u001b[39m+\u001b[39m\u001b[39m1\u001b[39m\u001b[39m}\u001b[39;00m\u001b[39m/\u001b[39m\u001b[39m{\u001b[39;00mepochs\u001b[39m}\u001b[39;00m\u001b[39m\"\u001b[39m)\n\u001b[0;32m---> 45\u001b[0m     train_loss \u001b[39m=\u001b[39m train_epoch(claim_classification_model, train_dataloader, optimizer, scheduler, device)\n\u001b[1;32m     46\u001b[0m     \u001b[39mprint\u001b[39m(\u001b[39mf\u001b[39m\u001b[39m\"\u001b[39m\u001b[39mTrain Loss: \u001b[39m\u001b[39m{\u001b[39;00mtrain_loss\u001b[39m:\u001b[39;00m\u001b[39m.4f\u001b[39m\u001b[39m}\u001b[39;00m\u001b[39m\"\u001b[39m)\n",
      "Cell \u001b[0;32mIn[6], line 19\u001b[0m, in \u001b[0;36mtrain_epoch\u001b[0;34m(model, dataloader, optimizer, scheduler, device)\u001b[0m\n\u001b[1;32m     16\u001b[0m loss \u001b[39m=\u001b[39m outputs\u001b[39m.\u001b[39mloss\n\u001b[1;32m     18\u001b[0m loss\u001b[39m.\u001b[39mbackward() \u001b[39m# Calculates the gradients for each parameter\u001b[39;00m\n\u001b[0;32m---> 19\u001b[0m optimizer\u001b[39m.\u001b[39;49mstep() \u001b[39m# Update parameters based on gradients\u001b[39;00m\n\u001b[1;32m     20\u001b[0m scheduler\u001b[39m.\u001b[39mstep() \u001b[39m# Update learning rate\u001b[39;00m\n\u001b[1;32m     22\u001b[0m total_loss \u001b[39m+\u001b[39m\u001b[39m=\u001b[39m loss\u001b[39m.\u001b[39mitem()\n",
      "File \u001b[0;32m~/miniconda3/envs/py38/lib/python3.8/site-packages/torch/optim/lr_scheduler.py:68\u001b[0m, in \u001b[0;36m_LRScheduler.__init__.<locals>.with_counter.<locals>.wrapper\u001b[0;34m(*args, **kwargs)\u001b[0m\n\u001b[1;32m     66\u001b[0m instance\u001b[39m.\u001b[39m_step_count \u001b[39m+\u001b[39m\u001b[39m=\u001b[39m \u001b[39m1\u001b[39m\n\u001b[1;32m     67\u001b[0m wrapped \u001b[39m=\u001b[39m func\u001b[39m.\u001b[39m\u001b[39m__get__\u001b[39m(instance, \u001b[39mcls\u001b[39m)\n\u001b[0;32m---> 68\u001b[0m \u001b[39mreturn\u001b[39;00m wrapped(\u001b[39m*\u001b[39;49margs, \u001b[39m*\u001b[39;49m\u001b[39m*\u001b[39;49mkwargs)\n",
      "File \u001b[0;32m~/miniconda3/envs/py38/lib/python3.8/site-packages/torch/optim/optimizer.py:140\u001b[0m, in \u001b[0;36mOptimizer._hook_for_profile.<locals>.profile_hook_step.<locals>.wrapper\u001b[0;34m(*args, **kwargs)\u001b[0m\n\u001b[1;32m    138\u001b[0m profile_name \u001b[39m=\u001b[39m \u001b[39m\"\u001b[39m\u001b[39mOptimizer.step#\u001b[39m\u001b[39m{}\u001b[39;00m\u001b[39m.step\u001b[39m\u001b[39m\"\u001b[39m\u001b[39m.\u001b[39mformat(obj\u001b[39m.\u001b[39m\u001b[39m__class__\u001b[39m\u001b[39m.\u001b[39m\u001b[39m__name__\u001b[39m)\n\u001b[1;32m    139\u001b[0m \u001b[39mwith\u001b[39;00m torch\u001b[39m.\u001b[39mautograd\u001b[39m.\u001b[39mprofiler\u001b[39m.\u001b[39mrecord_function(profile_name):\n\u001b[0;32m--> 140\u001b[0m     out \u001b[39m=\u001b[39m func(\u001b[39m*\u001b[39;49margs, \u001b[39m*\u001b[39;49m\u001b[39m*\u001b[39;49mkwargs)\n\u001b[1;32m    141\u001b[0m     obj\u001b[39m.\u001b[39m_optimizer_step_code()\n\u001b[1;32m    142\u001b[0m     \u001b[39mreturn\u001b[39;00m out\n",
      "File \u001b[0;32m~/miniconda3/envs/py38/lib/python3.8/site-packages/transformers/optimization.py:362\u001b[0m, in \u001b[0;36mAdamW.step\u001b[0;34m(self, closure)\u001b[0m\n\u001b[1;32m    360\u001b[0m exp_avg\u001b[39m.\u001b[39mmul_(beta1)\u001b[39m.\u001b[39madd_(grad, alpha\u001b[39m=\u001b[39m(\u001b[39m1.0\u001b[39m \u001b[39m-\u001b[39m beta1))\n\u001b[1;32m    361\u001b[0m exp_avg_sq\u001b[39m.\u001b[39mmul_(beta2)\u001b[39m.\u001b[39maddcmul_(grad, grad, value\u001b[39m=\u001b[39m\u001b[39m1.0\u001b[39m \u001b[39m-\u001b[39m beta2)\n\u001b[0;32m--> 362\u001b[0m denom \u001b[39m=\u001b[39m exp_avg_sq\u001b[39m.\u001b[39;49msqrt()\u001b[39m.\u001b[39;49madd_(group[\u001b[39m\"\u001b[39;49m\u001b[39meps\u001b[39;49m\u001b[39m\"\u001b[39;49m])\n\u001b[1;32m    364\u001b[0m step_size \u001b[39m=\u001b[39m group[\u001b[39m\"\u001b[39m\u001b[39mlr\u001b[39m\u001b[39m\"\u001b[39m]\n\u001b[1;32m    365\u001b[0m \u001b[39mif\u001b[39;00m group[\u001b[39m\"\u001b[39m\u001b[39mcorrect_bias\u001b[39m\u001b[39m\"\u001b[39m]:  \u001b[39m# No bias correction for Bert\u001b[39;00m\n",
      "\u001b[0;31mKeyboardInterrupt\u001b[0m: "
     ]
    }
   ],
   "source": [
    "from transformers import AutoModelForSequenceClassification\n",
    "from transformers import AdamW, get_linear_schedule_with_warmup\n",
    "from tqdm import tqdm\n",
    "\n",
    "def train_epoch(model, dataloader, optimizer, scheduler, device):\n",
    "    model.train()\n",
    "    total_loss = 0\n",
    "    for batch in tqdm(dataloader, desc=\"Training\"):\n",
    "        optimizer.zero_grad() # Resets the gradients from the previous step to prevent accumulation.\n",
    "\n",
    "        input_ids = batch[\"input_ids\"].to(device)\n",
    "        attention_mask = batch[\"attention_mask\"].to(device)\n",
    "        labels = batch[\"claim_label\"].to(device)\n",
    "\n",
    "        outputs = model(input_ids, attention_mask=attention_mask, labels=labels)\n",
    "        loss = outputs.loss\n",
    "\n",
    "        loss.backward() # Calculates the gradients for each parameter\n",
    "        optimizer.step() # Update parameters based on gradients\n",
    "        scheduler.step() # Update learning rate\n",
    "\n",
    "        total_loss += loss.item()\n",
    "    # Calculate the average loss \n",
    "    avg_loss = total_loss / len(dataloader)\n",
    "    return avg_loss\n",
    "\n",
    "num_labels = len(label_mapping)\n",
    "# If useMergedData = True, use merged_data to train the model\n",
    "if use_merged_data:\n",
    "    train_data = merged_data.copy()\n",
    "    \n",
    "train_dataset = convertPytorchDataset(train_data, evidence_data, tokenizer)\n",
    "train_dataloader = DataLoader(train_dataset, batch_size=batch_size, shuffle=True, collate_fn=collate_fn)\n",
    "\n",
    "# Create the model\n",
    "claim_classification_model = AutoModelForSequenceClassification.from_pretrained(model_type, num_labels=num_labels)\n",
    "claim_classification_model.to(device)\n",
    "# To adjust the parameters of model during training\n",
    "optimizer = AdamW(claim_classification_model.parameters(), lr=lr)\n",
    "# To adjust learning rate during training\n",
    "scheduler = get_linear_schedule_with_warmup(optimizer, num_warmup_steps=0, num_training_steps=len(train_dataloader) * epochs)\n",
    "\n",
    "for epoch in range(epochs):\n",
    "    print(f\"Training Epoch {epoch+1}/{epochs}\")\n",
    "    train_loss = train_epoch(claim_classification_model, train_dataloader, optimizer, scheduler, device)\n",
    "    print(f\"Train Loss: {train_loss:.4f}\")"
   ]
  },
  {
   "attachments": {},
   "cell_type": "markdown",
   "metadata": {},
   "source": [
    "# Prediction on test data"
   ]
  },
  {
   "cell_type": "code",
   "execution_count": null,
   "metadata": {},
   "outputs": [],
   "source": [
    "labelNum_mapping = {\n",
    "    0: \"SUPPORTS\",\n",
    "    1: \"REFUTES\",\n",
    "    2: \"NOT_ENOUGH_INFO\",\n",
    "    3: \"DISPUTED\",\n",
    "}\n",
    "\n",
    "# Prediction function for both dev and test data\n",
    "def save_predictions(claim_classification_model, dataloader, output_file, has_labels=True):\n",
    "    claim_classification_model.eval()\n",
    "    predictions = {} # Store prediction output\n",
    "\n",
    "    for batch in dataloader:\n",
    "        input_ids = batch[\"input_ids\"].to(device)\n",
    "        attention_mask = batch[\"attention_mask\"].to(device)\n",
    "        claim_ids = batch[\"claim_id\"]\n",
    "        claim_texts = batch[\"claim_text\"]\n",
    "        evidences = batch[\"evidences\"]\n",
    "        \n",
    "        with torch.no_grad(): # Disable gradient computation to save memory\n",
    "            # Get prediction result\n",
    "            outputs = claim_classification_model(input_ids, attention_mask=attention_mask)\n",
    "            # Get the most relevant result, and return as a list (1 dimension)\n",
    "            predicted_values, predicted_indices = torch.max(outputs.logits, 1)\n",
    "\n",
    "        for i, claim_id in enumerate(claim_ids):\n",
    "            claim_text = claim_texts[i]\n",
    "            top_evidences = evidences[i]\n",
    "\n",
    "            predictions[claim_id] = {\n",
    "                \"claim_text\": claim_text,\n",
    "                \"claim_label\": labelNum_mapping[predicted_indices[i].item()],\n",
    "                \"evidences\": top_evidences\n",
    "            }\n",
    "\n",
    "    with open(output_file, \"w\") as outfile:\n",
    "        json.dump(predictions, outfile, indent=2)\n",
    "\n",
    "# Predictions on dev data\n",
    "dev_dataset = convertPytorchDataset(dev_data, evidence_data, tokenizer)\n",
    "dev_dataloader = DataLoader(dev_dataset, batch_size=batch_size, shuffle=False, collate_fn=collate_fn)\n",
    "save_predictions(claim_classification_model, dev_dataloader, \"dev_claims_out.json\")\n",
    "\n",
    "# Predict on test data\n",
    "test_dataset = convertPytorchDataset(test_data, evidence_data, tokenizer)\n",
    "test_dataloader = DataLoader(test_dataset, batch_size=2, shuffle=False, collate_fn=collate_fn)\n",
    "save_predictions(claim_classification_model, test_dataloader, \"test-claims-predictions.json\", has_labels=False)"
   ]
  }
 ],
 "metadata": {
  "kernelspec": {
   "display_name": "Python 3.8.9 64-bit",
   "language": "python",
   "name": "python3"
  },
  "language_info": {
   "codemirror_mode": {
    "name": "ipython",
    "version": 3
   },
   "file_extension": ".py",
   "mimetype": "text/x-python",
   "name": "python",
   "nbconvert_exporter": "python",
   "pygments_lexer": "ipython3",
   "version": "3.8.16"
  },
  "vscode": {
   "interpreter": {
    "hash": "570feb405e2e27c949193ac68f46852414290d515b0ba6e5d90d076ed2284471"
   }
  }
 },
 "nbformat": 4,
 "nbformat_minor": 2
}
