{
 "cells": [
  {
   "cell_type": "markdown",
   "metadata": {},
   "source": [
    "# Project: Automated Fact Checking For Climate Science Claims"
   ]
  },
  {
   "cell_type": "markdown",
   "metadata": {},
   "source": [
    "Student Name: Hongda Zhu\n",
    "\n",
    "Student ID: 1259524"
   ]
  },
  {
   "cell_type": "code",
   "execution_count": null,
   "metadata": {},
   "outputs": [],
   "source": [
    "import sys\n",
    "print(sys.version)"
   ]
  },
  {
   "attachments": {},
   "cell_type": "markdown",
   "metadata": {},
   "source": [
    "# Load datasets"
   ]
  },
  {
   "cell_type": "code",
   "execution_count": null,
   "metadata": {},
   "outputs": [],
   "source": [
    "import json\n",
    "\n",
    "def load_data(filename):\n",
    "    file = open(filename, 'r')\n",
    "    data = json.load(file)\n",
    "    file.close()\n",
    "    return data\n",
    "\n",
    "train_data = load_data(\"train-claims.json\")\n",
    "dev_data = load_data(\"dev-claims.json\")\n",
    "evidence_data = load_data(\"evidence.json\")\n",
    "\n",
    "# print(\"train_data: \", train_data)\n",
    "# print(\"dev_data: \", dev_data)\n",
    "# print(\"evidence_data: \", evidence_data)\n",
    "# for id, info in train_data.items():\n",
    "#     print(\"claim_id: \", id)\n",
    "#     print(\"claim_text: \", info['claim_text'])\n",
    "#     print(\"claim_label: \", info['claim_label'])\n",
    "#     print(\"evidences: \", info['evidences'])\n",
    "#     print()\n",
    "# print(\"dev_data: \", dev_data)\n",
    "# print(\"evidence_data: \", evidence_data)"
   ]
  },
  {
   "attachments": {},
   "cell_type": "markdown",
   "metadata": {},
   "source": [
    "# Preprocessing the data"
   ]
  },
  {
   "attachments": {},
   "cell_type": "markdown",
   "metadata": {},
   "source": [
    "Create PyTorch Dataset and DataLoader for preprocessed data"
   ]
  },
  {
   "cell_type": "code",
   "execution_count": null,
   "metadata": {},
   "outputs": [],
   "source": [
    "import torch\n",
    "from torch.utils.data import Dataset, DataLoader\n",
    "from transformers import AutoTokenizer\n",
    "\n",
    "tokenizer = AutoTokenizer.from_pretrained(\"bert-base-uncased\")\n",
    "\n",
    "class convertPytorchDataset(Dataset):\n",
    "    def __init__(self, claim_data, evidence_data, tokenizer, label_mapping):\n",
    "        self.claim_data = claim_data\n",
    "        self.evidence_data = evidence_data\n",
    "        self.tokenizer = tokenizer\n",
    "        self.label_mapping = label_mapping\n",
    "\n",
    "    def __len__(self):\n",
    "        return len(self.claim_data)\n",
    "\n",
    "    def __getitem__(self, idx):\n",
    "        claim_id, claim_info = list(self.claim_data.items())[idx]\n",
    "        claim_text = claim_info[\"claim_text\"]\n",
    "        evidence_texts = [self.evidence_data[evidence_id] for evidence_id in claim_info[\"evidences\"]]\n",
    "        all_evidence_text = ' '.join(evidence_texts)\n",
    "\n",
    "        # Turn the data to pytorch tensor, padding them to the same length \n",
    "        # If text is too long, truncate them\n",
    "        tokenized_data = self.tokenizer(claim_text, all_evidence_text, padding=True, truncation=True, return_tensors=\"pt\")\n",
    "\n",
    "        tokenized_data[\"claim_id\"] = claim_id\n",
    "        tokenized_data[\"claim_text\"] = claim_info[\"claim_text\"]\n",
    "        tokenized_data[\"labels\"] = torch.tensor(self.label_mapping[claim_info[\"claim_label\"]])\n",
    "        tokenized_data[\"evidences\"] = claim_info[\"evidences\"]\n",
    "\n",
    "        return tokenized_data\n",
    "\n",
    "# Convert labels to numbers\n",
    "label_mapping = {\n",
    "    \"SUPPORTS\": 0,\n",
    "    \"REFUTES\": 1,\n",
    "    \"NOT_ENOUGH_INFO\": 2,\n",
    "    \"DISPUTED\": 3,\n",
    "}\n",
    "\n",
    "train_dataset = convertPytorchDataset(train_data, evidence_data, tokenizer, label_mapping)\n",
    "dev_dataset = convertPytorchDataset(dev_data, evidence_data, tokenizer, label_mapping)\n",
    "\n",
    "def collate_fn(batch):\n",
    "    max_len = max([x[\"input_ids\"].shape[1] for x in batch])\n",
    "    input_ids = torch.zeros(len(batch), max_len, dtype=torch.long)\n",
    "    attention_mask = torch.zeros(len(batch), max_len, dtype=torch.long)\n",
    "    labels = torch.zeros(len(batch), dtype=torch.long)\n",
    "    claim_ids = []\n",
    "    claim_texts = []\n",
    "    evidences = []\n",
    "    \n",
    "    for i, x in enumerate(batch):\n",
    "        cur_len = x[\"input_ids\"].shape[1]\n",
    "        input_ids[i, :cur_len] = x[\"input_ids\"]\n",
    "        attention_mask[i, :cur_len] = x[\"attention_mask\"]\n",
    "        labels[i] = x[\"labels\"]\n",
    "        claim_ids.append(x[\"claim_id\"])\n",
    "        claim_texts.append(x[\"claim_text\"])\n",
    "        evidences.append(x[\"evidences\"])\n",
    "    \n",
    "    return {\"input_ids\": input_ids, \"attention_mask\": attention_mask, \"claim_id\": claim_ids, \"claim_text\": claim_texts, \"labels\": labels, \"evidences\": evidences}\n",
    "\n",
    "train_dataloader = DataLoader(train_dataset, batch_size=2, shuffle=True, collate_fn=collate_fn)\n",
    "dev_dataloader = DataLoader(dev_dataset, batch_size=2, shuffle=False, collate_fn=collate_fn)\n"
   ]
  },
  {
   "attachments": {},
   "cell_type": "markdown",
   "metadata": {},
   "source": [
    "# Training the model"
   ]
  },
  {
   "attachments": {},
   "cell_type": "markdown",
   "metadata": {},
   "source": [
    "Fine-tune hyperparameter"
   ]
  },
  {
   "cell_type": "code",
   "execution_count": null,
   "metadata": {},
   "outputs": [],
   "source": [
    "search_space = {\n",
    "    'learning_rate': [1e-4, 3e-5, 1e-5],\n",
    "    'batch_size': [8, 16, 32],\n",
    "    'epochs': [2, 3, 4]\n",
    "}\n",
    "\n",
    "def train_and_evaluate(params):\n",
    "    batch_size = params['batch_size']\n",
    "    lr = params['learning_rate']\n",
    "    epochs = params['epochs']\n",
    "\n",
    "    train_dataloader = DataLoader(train_dataset, batch_size=batch_size, shuffle=True, collate_fn=collate_fn)\n",
    "    dev_dataloader = DataLoader(dev_dataset, batch_size=batch_size, shuffle=False, collate_fn=collate_fn)\n",
    "\n",
    "    model = BertForSequenceClassification.from_pretrained(\"bert-base-uncased\", num_labels=num_labels)\n",
    "    model.to(device)\n",
    "\n",
    "    optimizer = AdamW(model.parameters(), lr=lr)\n",
    "    scheduler = get_linear_schedule_with_warmup(optimizer, num_warmup_steps=0, num_training_steps=len(train_dataloader) * epochs)\n",
    "\n",
    "    for epoch in range(epochs):\n",
    "        train_loss = train_epoch(model, train_dataloader, optimizer, scheduler, device)\n",
    "\n",
    "    val_accuracy = evaluate(model, dev_dataloader, device)\n",
    "\n",
    "    return val_accuracy\n",
    "\n",
    "\n",
    "# import itertools\n",
    "\n",
    "# best_val_accuracy = 0\n",
    "# best_params = None\n",
    "\n",
    "# for lr, batch_size, epochs in itertools.product(search_space['learning_rate'], search_space['batch_size'], search_space['epochs']):\n",
    "#     params = {'learning_rate': lr, 'batch_size': batch_size, 'epochs': epochs}\n",
    "#     print(f\"Trying parameters: {params}\")\n",
    "#     val_accuracy = train_and_evaluate(params)\n",
    "#     print(f\"Validation Accuracy: {val_accuracy:.4f}\")\n",
    "\n",
    "#     if val_accuracy > best_val_accuracy:\n",
    "#         best_val_accuracy = val_accuracy\n",
    "#         best_params = params\n",
    "\n",
    "# print(f\"Best hyperparameters: {best_params}\")\n",
    "# print(f\"Best validation accuracy: {best_val_accuracy:.4f}\")\n",
    "\n"
   ]
  },
  {
   "cell_type": "code",
   "execution_count": null,
   "metadata": {},
   "outputs": [],
   "source": [
    "from transformers import BertForSequenceClassification\n",
    "\n",
    "num_labels = len(label_mapping)\n",
    "model = BertForSequenceClassification.from_pretrained(\"bert-base-uncased\", num_labels=num_labels)\n",
    "\n",
    "# If gpu available, use gpu.\n",
    "device = torch.device(\"cuda\" if torch.cuda.is_available() else \"cpu\")\n",
    "model.to(device)\n",
    "\n",
    "\n",
    "from transformers import AdamW, get_linear_schedule_with_warmup\n",
    "\n",
    "epochs = 3\n",
    "lr = 3e-5\n",
    "\n",
    "optimizer = AdamW(model.parameters(), lr=lr)\n",
    "scheduler = get_linear_schedule_with_warmup(optimizer, num_warmup_steps=0, num_training_steps=len(train_dataloader) * epochs)\n",
    "\n",
    "from tqdm import tqdm\n",
    "\n",
    "def train_epoch(model, dataloader, optimizer, scheduler, device):\n",
    "    model.train()\n",
    "    total_loss = 0\n",
    "    for batch in tqdm(dataloader, desc=\"Training\"):\n",
    "        optimizer.zero_grad()\n",
    "\n",
    "        input_ids = batch[\"input_ids\"].to(device)\n",
    "        attention_mask = batch[\"attention_mask\"].to(device)\n",
    "        labels = batch[\"labels\"].to(device)\n",
    "\n",
    "        outputs = model(input_ids, attention_mask=attention_mask, labels=labels)\n",
    "        loss = outputs.loss\n",
    "\n",
    "        loss.backward()\n",
    "        optimizer.step()\n",
    "        scheduler.step()\n",
    "\n",
    "        total_loss += loss.item()\n",
    "\n",
    "    avg_loss = total_loss / len(dataloader)\n",
    "    return avg_loss\n",
    "\n",
    "for epoch in range(epochs):\n",
    "    print(f\"Epoch {epoch+1}/{epochs}\")\n",
    "    train_loss = train_epoch(model, train_dataloader, optimizer, scheduler, device)\n",
    "    print(f\"Train Loss: {train_loss:.4f}\")\n"
   ]
  },
  {
   "attachments": {},
   "cell_type": "markdown",
   "metadata": {},
   "source": [
    "Free GPU memory"
   ]
  },
  {
   "cell_type": "code",
   "execution_count": null,
   "metadata": {},
   "outputs": [],
   "source": [
    "import torch\n",
    "\n",
    "# Clear the GPU cache\n",
    "torch.cuda.empty_cache()\n",
    "\n",
    "from tensorflow.keras import backend as K\n",
    "\n",
    "# Clear the GPU memory\n",
    "K.clear_session()"
   ]
  },
  {
   "attachments": {},
   "cell_type": "markdown",
   "metadata": {},
   "source": [
    "# Prediction on dev data"
   ]
  },
  {
   "cell_type": "code",
   "execution_count": null,
   "metadata": {},
   "outputs": [],
   "source": [
    "label_mapping_inverse = {v: k for k, v in label_mapping.items()}\n",
    "\n",
    "def save_predictions(model, dataloader, output_file):\n",
    "    model.eval()\n",
    "    predictions = {}\n",
    "\n",
    "    for batch in dataloader:\n",
    "        input_ids = batch[\"input_ids\"].to(device)\n",
    "        attention_mask = batch[\"attention_mask\"].to(device)\n",
    "        claim_ids = batch[\"claim_id\"]\n",
    "        claim_texts = batch[\"claim_text\"]\n",
    "\n",
    "        with torch.no_grad():\n",
    "            outputs = model(input_ids, attention_mask=attention_mask)\n",
    "            _, predicted = torch.max(outputs.logits, 1)\n",
    "\n",
    "        for idx, claim_id in enumerate(claim_ids):\n",
    "            predictions[claim_id] = {\n",
    "                \"claim_text\": claim_texts[idx],\n",
    "                \"claim_label\": label_mapping_inverse[predicted[idx].item()],\n",
    "                \"evidences\": batch[\"evidences\"][idx]\n",
    "            }\n",
    "\n",
    "    with open(output_file, \"w\") as outfile:\n",
    "        json.dump(predictions, outfile, indent=2)\n",
    "\n",
    "save_predictions(model, dev_dataloader, \"dev_claims_out.json\")\n",
    "\n"
   ]
  }
 ],
 "metadata": {
  "kernelspec": {
   "display_name": "Python 3 (ipykernel)",
   "language": "python",
   "name": "python3"
  },
  "language_info": {
   "codemirror_mode": {
    "name": "ipython",
    "version": 3
   },
   "file_extension": ".py",
   "mimetype": "text/x-python",
   "name": "python",
   "nbconvert_exporter": "python",
   "pygments_lexer": "ipython3",
   "version": "3.8.16"
  }
 },
 "nbformat": 4,
 "nbformat_minor": 2
}
