{
 "cells": [
  {
   "cell_type": "markdown",
   "metadata": {},
   "source": [
    "# Project: Automated Fact Checking For Climate Science Claims"
   ]
  },
  {
   "cell_type": "markdown",
   "metadata": {},
   "source": [
    "Student Name: Hongda Zhu\n",
    "\n",
    "Student ID: 1259524"
   ]
  },
  {
   "cell_type": "code",
   "execution_count": 2,
   "metadata": {},
   "outputs": [
    {
     "name": "stdout",
     "output_type": "stream",
     "text": [
      "3.8.16 (default, Mar  1 2023, 21:19:10) \n",
      "[Clang 14.0.6 ]\n"
     ]
    }
   ],
   "source": [
    "import sys\n",
    "print(sys.version)"
   ]
  },
  {
   "attachments": {},
   "cell_type": "markdown",
   "metadata": {},
   "source": [
    "# Load datasets"
   ]
  },
  {
   "cell_type": "code",
   "execution_count": 1,
   "metadata": {},
   "outputs": [],
   "source": [
    "import json\n",
    "\n",
    "def load_data(filename):\n",
    "    file = open(filename, 'r')\n",
    "    data = json.load(file)\n",
    "    file.close()\n",
    "    return data\n",
    "\n",
    "train_data = load_data(\"train-claims.json\")\n",
    "dev_data = load_data(\"dev-claims.json\")\n",
    "evidence_data = load_data(\"evidence.json\")\n",
    "test_data = load_data(\"test-claims-unlabelled.json\")\n",
    "\n",
    "# print(\"train_data: \", train_data)\n",
    "# print(\"dev_data: \", dev_data)\n",
    "# print(\"evidence_data: \", evidence_data)\n",
    "# for id, info in train_data.items():\n",
    "#     print(\"claim_id: \", id)\n",
    "#     print(\"claim_text: \", info['claim_text'])\n",
    "#     print(\"claim_label: \", info['claim_label'])\n",
    "#     print(\"evidences: \", info['evidences'])\n",
    "#     print()\n",
    "# print(\"dev_data: \", dev_data)\n",
    "# print(\"evidence_data: \", evidence_data)"
   ]
  },
  {
   "attachments": {},
   "cell_type": "markdown",
   "metadata": {},
   "source": [
    "# Preprocessing the data"
   ]
  },
  {
   "attachments": {},
   "cell_type": "markdown",
   "metadata": {},
   "source": [
    "Evidence retrieval.\n",
    "\n",
    "Retrieve the top k relevant evidences"
   ]
  },
  {
   "cell_type": "code",
   "execution_count": 2,
   "metadata": {},
   "outputs": [],
   "source": [
    "import torch\n",
    "from sklearn.feature_extraction.text import TfidfVectorizer\n",
    "\n",
    "# Retrieve top-k evidence\n",
    "def retrieve_top_k_evidence(claim, evidence_corpus, device, k=5):\n",
    "    evidence_ids = list(evidence_corpus.keys())\n",
    "    evidence_texts = list(evidence_corpus.values())\n",
    "    \n",
    "    vectorizer = TfidfVectorizer(stop_words='english')\n",
    "    evidence_matrix = vectorizer.fit_transform(evidence_texts)\n",
    "    claim_vector = vectorizer.transform([claim])\n",
    "    \n",
    "    # Convert to PyTorch tensors and move to GPU\n",
    "    evidence_matrix_tensor = torch.tensor(evidence_matrix.toarray(), device=device, dtype=torch.float)\n",
    "    claim_vector_tensor = torch.tensor(claim_vector.toarray(), device=device, dtype=torch.float)\n",
    "    \n",
    "    # Compute cosine similarity on GPU\n",
    "    dot_product = torch.matmul(claim_vector_tensor, evidence_matrix_tensor.T)\n",
    "    claim_norm = torch.norm(claim_vector_tensor, dim=1).unsqueeze(1)\n",
    "    evidence_norm = torch.norm(evidence_matrix_tensor, dim=1).unsqueeze(0)\n",
    "    cosine_similarity = dot_product / (claim_norm * evidence_norm)\n",
    "\n",
    "    # Sort and retrieve top-k indices\n",
    "    sorted_indices = torch.argsort(cosine_similarity, descending=True)\n",
    "    top_k_indices = sorted_indices[0, :k].cpu().numpy()\n",
    "    \n",
    "    top_k_evidence_ids = [evidence_ids[i] for i in top_k_indices]\n",
    "    return top_k_evidence_ids\n"
   ]
  },
  {
   "attachments": {},
   "cell_type": "markdown",
   "metadata": {},
   "source": [
    "Retrieve all relevant evidences"
   ]
  },
  {
   "cell_type": "code",
   "execution_count": null,
   "metadata": {},
   "outputs": [],
   "source": [
    "import torch.nn.functional.cosine_similarity\n",
    "\n",
    "def retrieve_all_relevant_evidences(claim, evidence_data):\n",
    "    evidence_ids = list(evidence_data.keys())\n",
    "    evidence_texts = list(evidence_data.values())\n",
    "\n",
    "    vectorizer = TfidfVectorizer(stop_words='english')\n",
    "    evidence_matrix = vectorizer.fit_transform(evidence_texts)\n",
    "    claim_vector = vectorizer.transform([claim])\n",
    "\n",
    "    similarities = cosine_similarity(claim_vector, evidence_matrix)\n",
    "    relevant_indices = [i for i, sim in enumerate(similarities[0]) if sim > 0]\n",
    "\n",
    "    relevant_evidence_ids = [evidence_ids[i] for i in relevant_indices]\n",
    "    return relevant_evidence_ids\n"
   ]
  },
  {
   "attachments": {},
   "cell_type": "markdown",
   "metadata": {},
   "source": [
    "Create PyTorch Dataset and DataLoader for preprocessed data"
   ]
  },
  {
   "cell_type": "code",
   "execution_count": 5,
   "metadata": {},
   "outputs": [],
   "source": [
    "import torch\n",
    "from torch.utils.data import Dataset, DataLoader\n",
    "from transformers import AutoTokenizer\n",
    "\n",
    "tokenizer = AutoTokenizer.from_pretrained(\"bert-base-uncased\")\n",
    "device = torch.device(\"cuda\" if torch.cuda.is_available() else \"cpu\")\n",
    "\n",
    "class convertPytorchDataset(Dataset):\n",
    "    def __init__(self, claim_data, evidence_data, tokenizer, label_mapping):\n",
    "        self.claim_data = claim_data\n",
    "        self.evidence_data = evidence_data\n",
    "        self.tokenizer = tokenizer\n",
    "        self.label_mapping = label_mapping\n",
    "\n",
    "    def __len__(self):\n",
    "        return len(self.claim_data)\n",
    "\n",
    "    def __getitem__(self, idx):\n",
    "        claim_id, claim_data = list(self.claim_data.items())[idx]\n",
    "        claim_text = claim_data[\"claim_text\"]\n",
    "        claim_label = claim_data.get(\"claim_label\", None)\n",
    "\n",
    "        # Retrieve all evidence for the claim\n",
    "        evidence_ids = retrieve_top_k_evidence(claim_text, self.evidence_data, device=device, k=5)\n",
    "\n",
    "        # Tokenize claim and evidence\n",
    "        tokens = self.tokenizer.encode_plus(claim_text, truncation=True, padding=\"max_length\", max_length=512)\n",
    "\n",
    "        # Convert label to a number if available\n",
    "        if claim_label is not None:\n",
    "            label = self.label_mapping[claim_label]\n",
    "        else:\n",
    "            label = -1\n",
    "\n",
    "        item = {\n",
    "            \"input_ids\": torch.tensor(tokens[\"input_ids\"], dtype=torch.long),\n",
    "            \"attention_mask\": torch.tensor(tokens[\"attention_mask\"], dtype=torch.long),\n",
    "            \"claim_id\": claim_id,\n",
    "            \"claim_text\": claim_text,\n",
    "            \"labels\": torch.tensor(label, dtype=torch.long),\n",
    "            \"evidences\": evidence_ids\n",
    "        }\n",
    "\n",
    "        return item\n",
    "\n",
    "\n",
    "# Convert labels to numbers\n",
    "label_mapping = {\n",
    "    \"SUPPORTS\": 0,\n",
    "    \"REFUTES\": 1,\n",
    "    \"NOT_ENOUGH_INFO\": 2,\n",
    "    \"DISPUTED\": 3,\n",
    "}\n",
    "\n",
    "train_dataset = convertPytorchDataset(train_data, evidence_data, tokenizer, label_mapping)\n",
    "dev_dataset = convertPytorchDataset(dev_data, evidence_data, tokenizer, label_mapping)\n",
    "\n",
    "def collate_fn(batch):\n",
    "    non_empty_batch = [x for x in batch if x is not None]\n",
    "    if len(non_empty_batch) == 0:\n",
    "        return None\n",
    "\n",
    "    max_len = max([x[\"input_ids\"].shape[0] for x in non_empty_batch])\n",
    "    input_ids = torch.zeros(len(non_empty_batch), max_len, dtype=torch.long)\n",
    "    attention_mask = torch.zeros(len(non_empty_batch), max_len, dtype=torch.long)\n",
    "    labels = torch.zeros(len(non_empty_batch), dtype=torch.long)\n",
    "    claim_ids = []\n",
    "    claim_texts = []\n",
    "    evidences = []\n",
    "\n",
    "    for i, x in enumerate(non_empty_batch):\n",
    "        cur_len = x[\"input_ids\"].shape[0]\n",
    "        input_ids[i, :cur_len] = x[\"input_ids\"]\n",
    "        attention_mask[i, :cur_len] = x[\"attention_mask\"]\n",
    "        labels[i] = x[\"labels\"]\n",
    "        claim_ids.append(x[\"claim_id\"])\n",
    "        claim_texts.append(x[\"claim_text\"])\n",
    "        evidences.append(x[\"evidences\"])\n",
    "\n",
    "    return {\"input_ids\": input_ids, \"attention_mask\": attention_mask, \"claim_id\": claim_ids, \"claim_text\": claim_texts, \"labels\": labels, \"evidences\": evidences}\n",
    "\n",
    "\n",
    "\n",
    "train_dataloader = DataLoader(train_dataset, batch_size=2, shuffle=True, collate_fn=collate_fn)\n",
    "dev_dataloader = DataLoader(dev_dataset, batch_size=2, shuffle=False, collate_fn=collate_fn)\n"
   ]
  },
  {
   "attachments": {},
   "cell_type": "markdown",
   "metadata": {},
   "source": [
    "# Training the model"
   ]
  },
  {
   "attachments": {},
   "cell_type": "markdown",
   "metadata": {},
   "source": [
    "Fine-tune hyperparameter"
   ]
  },
  {
   "cell_type": "code",
   "execution_count": null,
   "metadata": {},
   "outputs": [],
   "source": [
    "search_space = {\n",
    "    'learning_rate': [1e-4, 3e-5, 1e-5],\n",
    "    'batch_size': [8, 16, 32],\n",
    "    'epochs': [2, 3, 4]\n",
    "}\n",
    "\n",
    "def train_and_evaluate(params):\n",
    "    batch_size = params['batch_size']\n",
    "    lr = params['learning_rate']\n",
    "    epochs = params['epochs']\n",
    "\n",
    "    train_dataloader = DataLoader(train_dataset, batch_size=batch_size, shuffle=True, collate_fn=collate_fn)\n",
    "    dev_dataloader = DataLoader(dev_dataset, batch_size=batch_size, shuffle=False, collate_fn=collate_fn)\n",
    "\n",
    "    model = BertForSequenceClassification.from_pretrained(\"bert-base-uncased\", num_labels=num_labels)\n",
    "    model.to(device)\n",
    "\n",
    "    optimizer = AdamW(model.parameters(), lr=lr)\n",
    "    scheduler = get_linear_schedule_with_warmup(optimizer, num_warmup_steps=0, num_training_steps=len(train_dataloader) * epochs)\n",
    "\n",
    "    for epoch in range(epochs):\n",
    "        train_loss = train_epoch(model, train_dataloader, optimizer, scheduler, device)\n",
    "\n",
    "    val_accuracy = evaluate(model, dev_dataloader, device)\n",
    "\n",
    "    return val_accuracy\n",
    "\n",
    "\n",
    "# import itertools\n",
    "\n",
    "# best_val_accuracy = 0\n",
    "# best_params = None\n",
    "\n",
    "# for lr, batch_size, epochs in itertools.product(search_space['learning_rate'], search_space['batch_size'], search_space['epochs']):\n",
    "#     params = {'learning_rate': lr, 'batch_size': batch_size, 'epochs': epochs}\n",
    "#     print(f\"Trying parameters: {params}\")\n",
    "#     val_accuracy = train_and_evaluate(params)\n",
    "#     print(f\"Validation Accuracy: {val_accuracy:.4f}\")\n",
    "\n",
    "#     if val_accuracy > best_val_accuracy:\n",
    "#         best_val_accuracy = val_accuracy\n",
    "#         best_params = params\n",
    "\n",
    "# print(f\"Best hyperparameters: {best_params}\")\n",
    "# print(f\"Best validation accuracy: {best_val_accuracy:.4f}\")\n",
    "\n"
   ]
  },
  {
   "cell_type": "code",
   "execution_count": 6,
   "metadata": {},
   "outputs": [
    {
     "name": "stderr",
     "output_type": "stream",
     "text": [
      "Some weights of the model checkpoint at bert-base-uncased were not used when initializing BertForSequenceClassification: ['cls.predictions.transform.LayerNorm.bias', 'cls.predictions.transform.dense.bias', 'cls.predictions.decoder.weight', 'cls.predictions.transform.dense.weight', 'cls.predictions.transform.LayerNorm.weight', 'cls.seq_relationship.weight', 'cls.predictions.bias', 'cls.seq_relationship.bias']\n",
      "- This IS expected if you are initializing BertForSequenceClassification from the checkpoint of a model trained on another task or with another architecture (e.g. initializing a BertForSequenceClassification model from a BertForPreTraining model).\n",
      "- This IS NOT expected if you are initializing BertForSequenceClassification from the checkpoint of a model that you expect to be exactly identical (initializing a BertForSequenceClassification model from a BertForSequenceClassification model).\n",
      "Some weights of BertForSequenceClassification were not initialized from the model checkpoint at bert-base-uncased and are newly initialized: ['classifier.weight', 'classifier.bias']\n",
      "You should probably TRAIN this model on a down-stream task to be able to use it for predictions and inference.\n",
      "/Users/shikiryougi/miniconda3/envs/py38/lib/python3.8/site-packages/transformers/optimization.py:306: FutureWarning: This implementation of AdamW is deprecated and will be removed in a future version. Use the PyTorch implementation torch.optim.AdamW instead, or set `no_deprecation_warning=True` to disable this warning\n",
      "  warnings.warn(\n"
     ]
    },
    {
     "name": "stdout",
     "output_type": "stream",
     "text": [
      "Epoch 1/3\n"
     ]
    },
    {
     "name": "stderr",
     "output_type": "stream",
     "text": [
      "Training:   0%|          | 0/614 [00:00<?, ?it/s]"
     ]
    }
   ],
   "source": [
    "from transformers import BertForSequenceClassification\n",
    "\n",
    "num_labels = len(label_mapping)\n",
    "model = BertForSequenceClassification.from_pretrained(\"bert-base-uncased\", num_labels=num_labels)\n",
    "\n",
    "# If gpu available, use gpu.\n",
    "device = torch.device(\"cuda\" if torch.cuda.is_available() else \"cpu\")\n",
    "model.to(device)\n",
    "\n",
    "\n",
    "from transformers import AdamW, get_linear_schedule_with_warmup\n",
    "\n",
    "epochs = 3\n",
    "lr = 3e-5\n",
    "\n",
    "optimizer = AdamW(model.parameters(), lr=lr)\n",
    "scheduler = get_linear_schedule_with_warmup(optimizer, num_warmup_steps=0, num_training_steps=len(train_dataloader) * epochs)\n",
    "\n",
    "from tqdm import tqdm\n",
    "\n",
    "def train_epoch(model, dataloader, optimizer, scheduler, device):\n",
    "    model.train()\n",
    "    total_loss = 0\n",
    "    for batch in tqdm(dataloader, desc=\"Training\"):\n",
    "        optimizer.zero_grad()\n",
    "\n",
    "        input_ids = batch[\"input_ids\"].to(device)\n",
    "        attention_mask = batch[\"attention_mask\"].to(device)\n",
    "        labels = batch[\"labels\"].to(device)\n",
    "\n",
    "        outputs = model(input_ids, attention_mask=attention_mask, labels=labels)\n",
    "        loss = outputs.loss\n",
    "\n",
    "        loss.backward()\n",
    "        optimizer.step()\n",
    "        scheduler.step()\n",
    "\n",
    "        total_loss += loss.item()\n",
    "\n",
    "    avg_loss = total_loss / len(dataloader)\n",
    "    return avg_loss\n",
    "\n",
    "for epoch in range(epochs):\n",
    "    print(f\"Epoch {epoch+1}/{epochs}\")\n",
    "    train_loss = train_epoch(model, train_dataloader, optimizer, scheduler, device)\n",
    "    print(f\"Train Loss: {train_loss:.4f}\")\n"
   ]
  },
  {
   "attachments": {},
   "cell_type": "markdown",
   "metadata": {},
   "source": [
    "Free GPU memory"
   ]
  },
  {
   "cell_type": "code",
   "execution_count": null,
   "metadata": {},
   "outputs": [],
   "source": [
    "import torch\n",
    "\n",
    "# Clear the GPU cache\n",
    "torch.cuda.empty_cache()\n",
    "\n",
    "from tensorflow.keras import backend as K\n",
    "\n",
    "# Clear the GPU memory\n",
    "K.clear_session()"
   ]
  },
  {
   "attachments": {},
   "cell_type": "markdown",
   "metadata": {},
   "source": [
    "# Prediction on dev data"
   ]
  },
  {
   "cell_type": "code",
   "execution_count": null,
   "metadata": {},
   "outputs": [],
   "source": [
    "label_mapping_inverse = {v: k for k, v in label_mapping.items()}\n",
    "\n",
    "def save_predictions(model, dataloader, output_file):\n",
    "    model.eval()\n",
    "    predictions = {}\n",
    "\n",
    "    for batch in dataloader:\n",
    "        input_ids = batch[\"input_ids\"].to(device)\n",
    "        attention_mask = batch[\"attention_mask\"].to(device)\n",
    "        claim_ids = batch[\"claim_id\"]\n",
    "        claim_texts = batch[\"claim_text\"]\n",
    "\n",
    "        with torch.no_grad():\n",
    "            outputs = model(input_ids, attention_mask=attention_mask)\n",
    "            _, predicted = torch.max(outputs.logits, 1)\n",
    "\n",
    "        for idx, claim_id in enumerate(claim_ids):\n",
    "            predictions[claim_id] = {\n",
    "                \"claim_text\": claim_texts[idx],\n",
    "                \"claim_label\": label_mapping_inverse[predicted[idx].item()],\n",
    "                \"evidences\": batch[\"evidences\"][idx]\n",
    "            }\n",
    "\n",
    "    with open(output_file, \"w\") as outfile:\n",
    "        json.dump(predictions, outfile, indent=2)\n",
    "\n",
    "save_predictions(model, dev_dataloader, \"dev_claims_out.json\")\n",
    "\n"
   ]
  },
  {
   "attachments": {},
   "cell_type": "markdown",
   "metadata": {},
   "source": [
    "# Prediction on test data"
   ]
  },
  {
   "cell_type": "code",
   "execution_count": null,
   "metadata": {},
   "outputs": [],
   "source": [
    "# Prediction function for both dev and test data\n",
    "def save_predictions(model, dataloader, output_file, has_labels=True):\n",
    "    model.eval()\n",
    "    predictions = {}\n",
    "\n",
    "    for batch in dataloader:\n",
    "        input_ids = batch[\"input_ids\"].to(device)\n",
    "        attention_mask = batch[\"attention_mask\"].to(device)\n",
    "        claim_ids = batch[\"claim_id\"]\n",
    "        claim_texts = batch[\"claim_text\"]\n",
    "\n",
    "        with torch.no_grad():\n",
    "            outputs = model(input_ids, attention_mask=attention_mask)\n",
    "            _, predicted = torch.max(outputs.logits, 1)\n",
    "\n",
    "        for idx, claim_id in enumerate(claim_ids):\n",
    "            predictions[claim_id] = {\n",
    "                \"claim_text\": claim_texts[idx],\n",
    "                \"claim_label\": label_mapping_inverse[predicted[idx].item()],\n",
    "                \"evidences\": batch[\"evidences\"][idx]\n",
    "            }\n",
    "\n",
    "    with open(output_file, \"w\") as outfile:\n",
    "        json.dump(predictions, outfile, indent=2)\n",
    "\n",
    "# Save predictions on dev data\n",
    "save_predictions(model, dev_dataloader, \"dev_claims_out.json\")\n",
    "\n",
    "# Save predictions on test data\n",
    "test_dataset = convertPytorchDataset(test_data, evidence_data, tokenizer, label_mapping)\n",
    "test_dataloader = DataLoader(test_dataset, batch_size=2, shuffle=False, collate_fn=collate_fn)\n",
    "save_predictions(model, test_dataloader, \"test_claims_out.json\", has_labels=False)"
   ]
  }
 ],
 "metadata": {
  "kernelspec": {
   "display_name": "Python 3 (ipykernel)",
   "language": "python",
   "name": "python3"
  },
  "language_info": {
   "codemirror_mode": {
    "name": "ipython",
    "version": 3
   },
   "file_extension": ".py",
   "mimetype": "text/x-python",
   "name": "python",
   "nbconvert_exporter": "python",
   "pygments_lexer": "ipython3",
   "version": "3.8.16"
  }
 },
 "nbformat": 4,
 "nbformat_minor": 2
}
