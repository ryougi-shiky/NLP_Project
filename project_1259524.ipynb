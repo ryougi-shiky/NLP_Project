{
 "cells": [
  {
   "cell_type": "markdown",
   "metadata": {},
   "source": [
    "# Project: Automated Fact Checking For Climate Science Claims"
   ]
  },
  {
   "cell_type": "markdown",
   "metadata": {},
   "source": [
    "Student Name: Hongda Zhu\n",
    "\n",
    "Student ID: 1259524"
   ]
  },
  {
   "cell_type": "code",
   "execution_count": 11,
   "metadata": {},
   "outputs": [
    {
     "name": "stdout",
     "output_type": "stream",
     "text": [
      "3.8.16 (default, Mar  1 2023, 21:19:10) \n",
      "[Clang 14.0.6 ]\n"
     ]
    }
   ],
   "source": [
    "import sys\n",
    "print(sys.version)"
   ]
  },
  {
   "attachments": {},
   "cell_type": "markdown",
   "metadata": {},
   "source": [
    "# Load datasets"
   ]
  },
  {
   "cell_type": "code",
   "execution_count": 12,
   "metadata": {},
   "outputs": [],
   "source": [
    "import json\n",
    "\n",
    "def load_data(filename):\n",
    "    with open(filename, 'r') as file:\n",
    "        data = json.load(file)\n",
    "    return data\n",
    "\n",
    "train_data = load_data(\"train-claims.json\")\n",
    "dev_data = load_data(\"dev-claims.json\")\n",
    "evidence_data = load_data(\"evidence.json\")\n",
    "\n",
    "# print(\"train_data: \", train_data)\n",
    "# print(\"dev_data: \", dev_data)\n",
    "# print(\"evidence_data: \", evidence_data)\n",
    "# for id, info in train_data.items():\n",
    "#     print(\"claim_id: \", id)\n",
    "#     print(\"claim_text: \", info['claim_text'])\n",
    "#     print(\"claim_label: \", info['claim_label'])\n",
    "#     print(\"evidences: \", info['evidences'])\n",
    "#     print()\n",
    "# print(\"dev_data: \", dev_data)\n",
    "# print(\"evidence_data: \", evidence_data)"
   ]
  },
  {
   "attachments": {},
   "cell_type": "markdown",
   "metadata": {},
   "source": [
    "# Preprocessing the data"
   ]
  },
  {
   "attachments": {},
   "cell_type": "markdown",
   "metadata": {},
   "source": [
    "Tokenize the data"
   ]
  },
  {
   "cell_type": "code",
   "execution_count": 13,
   "metadata": {},
   "outputs": [],
   "source": [
    "from transformers import AutoTokenizer\n",
    "\n",
    "tokenizer = AutoTokenizer.from_pretrained(\"distilbert-base-uncased\")\n",
    "\n",
    "# Replace claims evidence id with actual evidence content in evidence data\n",
    "# Tokenize them and combine together as the preprocessed data\n",
    "def preprocess_data(claim_data, evidence_data, tokenizer):\n",
    "    preprocessed_data = {}\n",
    "    for claim_id, claim_info in claim_data.items():\n",
    "        claim_text = claim_info[\"claim_text\"]\n",
    "        evidence_ids = claim_info[\"evidences\"]\n",
    "        claim_label = claim_info[\"claim_label\"]\n",
    "\n",
    "        # Tokenize claim data\n",
    "        claim_tokens = tokenizer.tokenize(claim_text)\n",
    "\n",
    "        # Tokenize evidence data\n",
    "        evidence_tokens = []\n",
    "        for evidence_id in evidence_ids:\n",
    "            evidence_text = evidence_data[evidence_id]\n",
    "            tokens = tokenizer.tokenize(evidence_text)\n",
    "            evidence_tokens.append(tokens)\n",
    "\n",
    "        # Combine and store preprocessed data\n",
    "        preprocessed_data[claim_id] = {\n",
    "            \"claim_tokens\": claim_tokens,\n",
    "            \"evidence_tokens\": evidence_tokens,\n",
    "            \"claim_label\": claim_label,\n",
    "        }\n",
    "    return preprocessed_data\n",
    "\n",
    "# Preprocess the train and dev data\n",
    "preprocessed_train_data = preprocess_data(train_data, evidence_data, tokenizer)\n",
    "preprocessed_dev_data = preprocess_data(dev_data, evidence_data, tokenizer)\n",
    "\n",
    "# print(\"preprocessed_train_data: \", preprocessed_train_data)\n",
    "# print(\"preprocessed_dev_data: \", preprocessed_dev_data)\n"
   ]
  },
  {
   "attachments": {},
   "cell_type": "markdown",
   "metadata": {},
   "source": [
    "Create PyTorch Dataset and DataLoader for preprocessed data"
   ]
  },
  {
   "cell_type": "code",
   "execution_count": 18,
   "metadata": {},
   "outputs": [],
   "source": [
    "import torch\n",
    "from torch.utils.data import Dataset, DataLoader\n",
    "\n",
    "class FactCheckDataset(Dataset):\n",
    "    def __init__(self, claim_data, evidence_data, tokenizer, label_mapping):\n",
    "        self.claim_data = claim_data\n",
    "        self.evidence_data = evidence_data\n",
    "        self.tokenizer = tokenizer\n",
    "        self.label_mapping = label_mapping\n",
    "\n",
    "    def __len__(self):\n",
    "        return len(self.claim_data)\n",
    "\n",
    "    def __getitem__(self, idx):\n",
    "        claim_id, claim_info = list(self.claim_data.items())[idx]\n",
    "        claim_text = claim_info[\"claim_text\"]\n",
    "        evidence_text = self.evidence_data[claim_info[\"evidences\"][0]]\n",
    "\n",
    "        # Tokenize the data\n",
    "        tokenized_data = self.tokenizer(\n",
    "            claim_text, evidence_text, padding=True, truncation=True, return_tensors=\"pt\"\n",
    "        )\n",
    "\n",
    "        # Add the label to the tokenized data\n",
    "        tokenized_data[\"labels\"] = torch.tensor(self.label_mapping[claim_info[\"claim_label\"]])\n",
    "\n",
    "        return tokenized_data\n",
    "\n",
    "\n",
    "label_mapping = {\n",
    "    \"SUPPORTS\": 0,\n",
    "    \"REFUTES\": 1,\n",
    "    \"NOT_ENOUGH_INFO\": 2,\n",
    "    \"DISPUTED\": 3,\n",
    "}\n",
    "\n",
    "train_dataset = FactCheckDataset(train_data, evidence_data, tokenizer, label_mapping)\n",
    "dev_dataset = FactCheckDataset(dev_data, evidence_data, tokenizer, label_mapping)\n",
    "\n",
    "\n",
    "def collate_fn(batch):\n",
    "    max_len = max([x[\"input_ids\"].shape[1] for x in batch])\n",
    "    input_ids = torch.zeros(len(batch), max_len, dtype=torch.long)\n",
    "    attention_mask = torch.zeros(len(batch), max_len, dtype=torch.long)\n",
    "    labels = torch.zeros(len(batch), dtype=torch.long)\n",
    "    \n",
    "    for i, x in enumerate(batch):\n",
    "        cur_len = x[\"input_ids\"].shape[1]\n",
    "        input_ids[i, :cur_len] = x[\"input_ids\"]\n",
    "        attention_mask[i, :cur_len] = x[\"attention_mask\"]\n",
    "        labels[i] = x[\"labels\"]\n",
    "    \n",
    "    return {\"input_ids\": input_ids, \"attention_mask\": attention_mask, \"labels\": labels}\n",
    "\n",
    "train_dataloader = DataLoader(train_dataset, batch_size=8, shuffle=True, collate_fn=collate_fn)\n",
    "dev_dataloader = DataLoader(dev_dataset, batch_size=8, shuffle=False, collate_fn=collate_fn)\n",
    "\n"
   ]
  },
  {
   "attachments": {},
   "cell_type": "markdown",
   "metadata": {},
   "source": [
    "# Training the model"
   ]
  },
  {
   "cell_type": "code",
   "execution_count": 19,
   "metadata": {},
   "outputs": [
    {
     "name": "stderr",
     "output_type": "stream",
     "text": [
      "Some weights of the model checkpoint at bert-base-uncased were not used when initializing BertForSequenceClassification: ['cls.predictions.bias', 'cls.predictions.decoder.weight', 'cls.seq_relationship.weight', 'cls.predictions.transform.LayerNorm.weight', 'cls.predictions.transform.LayerNorm.bias', 'cls.predictions.transform.dense.weight', 'cls.seq_relationship.bias', 'cls.predictions.transform.dense.bias']\n",
      "- This IS expected if you are initializing BertForSequenceClassification from the checkpoint of a model trained on another task or with another architecture (e.g. initializing a BertForSequenceClassification model from a BertForPreTraining model).\n",
      "- This IS NOT expected if you are initializing BertForSequenceClassification from the checkpoint of a model that you expect to be exactly identical (initializing a BertForSequenceClassification model from a BertForSequenceClassification model).\n",
      "Some weights of BertForSequenceClassification were not initialized from the model checkpoint at bert-base-uncased and are newly initialized: ['classifier.weight', 'classifier.bias']\n",
      "You should probably TRAIN this model on a down-stream task to be able to use it for predictions and inference.\n"
     ]
    },
    {
     "name": "stdout",
     "output_type": "stream",
     "text": [
      "Epoch 1/3\n"
     ]
    },
    {
     "name": "stderr",
     "output_type": "stream",
     "text": [
      "Training: 100%|██████████| 154/154 [10:45<00:00,  4.19s/it]\n"
     ]
    },
    {
     "name": "stdout",
     "output_type": "stream",
     "text": [
      "Train Loss: 1.2647\n",
      "Epoch 2/3\n"
     ]
    },
    {
     "name": "stderr",
     "output_type": "stream",
     "text": [
      "Training: 100%|██████████| 154/154 [10:31<00:00,  4.10s/it]\n"
     ]
    },
    {
     "name": "stdout",
     "output_type": "stream",
     "text": [
      "Train Loss: 1.1798\n",
      "Epoch 3/3\n"
     ]
    },
    {
     "name": "stderr",
     "output_type": "stream",
     "text": [
      "Training: 100%|██████████| 154/154 [10:40<00:00,  4.16s/it]"
     ]
    },
    {
     "name": "stdout",
     "output_type": "stream",
     "text": [
      "Train Loss: 0.9918\n"
     ]
    },
    {
     "name": "stderr",
     "output_type": "stream",
     "text": [
      "\n"
     ]
    }
   ],
   "source": [
    "from transformers import BertForSequenceClassification\n",
    "\n",
    "num_labels = len(label_mapping)\n",
    "model = BertForSequenceClassification.from_pretrained(\"bert-base-uncased\", num_labels=num_labels)\n",
    "\n",
    "# Use gpu\n",
    "device = torch.device(\"cuda\" if torch.cuda.is_available() else \"cpu\")\n",
    "model.to(device)\n",
    "\n",
    "\n",
    "from transformers import AdamW, get_linear_schedule_with_warmup\n",
    "\n",
    "epochs = 3\n",
    "lr = 3e-5\n",
    "\n",
    "optimizer = AdamW(model.parameters(), lr=lr)\n",
    "scheduler = get_linear_schedule_with_warmup(optimizer, num_warmup_steps=0, num_training_steps=len(train_dataloader) * epochs)\n",
    "\n",
    "from tqdm import tqdm\n",
    "\n",
    "def train_epoch(model, dataloader, optimizer, scheduler, device):\n",
    "    model.train()\n",
    "    total_loss = 0\n",
    "    for batch in tqdm(dataloader, desc=\"Training\"):\n",
    "        optimizer.zero_grad()\n",
    "\n",
    "        input_ids = batch[\"input_ids\"].to(device)\n",
    "        attention_mask = batch[\"attention_mask\"].to(device)\n",
    "        labels = batch[\"labels\"].to(device)\n",
    "\n",
    "        outputs = model(input_ids, attention_mask=attention_mask, labels=labels)\n",
    "        loss = outputs.loss\n",
    "\n",
    "        loss.backward()\n",
    "        optimizer.step()\n",
    "        scheduler.step()\n",
    "\n",
    "        total_loss += loss.item()\n",
    "\n",
    "    avg_loss = total_loss / len(dataloader)\n",
    "    return avg_loss\n",
    "\n",
    "for epoch in range(epochs):\n",
    "    print(f\"Epoch {epoch+1}/{epochs}\")\n",
    "    train_loss = train_epoch(model, train_dataloader, optimizer, scheduler, device)\n",
    "    print(f\"Train Loss: {train_loss:.4f}\")\n"
   ]
  }
 ],
 "metadata": {
  "kernelspec": {
   "display_name": "Python 3 (ipykernel)",
   "language": "python",
   "name": "python3"
  },
  "language_info": {
   "codemirror_mode": {
    "name": "ipython",
    "version": 3
   },
   "file_extension": ".py",
   "mimetype": "text/x-python",
   "name": "python",
   "nbconvert_exporter": "python",
   "pygments_lexer": "ipython3",
   "version": "3.8.16"
  }
 },
 "nbformat": 4,
 "nbformat_minor": 2
}
