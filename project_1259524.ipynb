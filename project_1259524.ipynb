{
 "cells": [
  {
   "cell_type": "markdown",
   "metadata": {},
   "source": [
    "# Project: Automated Fact Checking For Climate Science Claims"
   ]
  },
  {
   "cell_type": "markdown",
   "metadata": {},
   "source": [
    "Student Name: Hongda Zhu\n",
    "\n",
    "Student ID: 1259524"
   ]
  },
  {
   "cell_type": "code",
   "execution_count": 1,
   "metadata": {},
   "outputs": [
    {
     "name": "stdout",
     "output_type": "stream",
     "text": [
      "3.8.16 (default, Mar  1 2023, 21:19:10) \n",
      "[Clang 14.0.6 ]\n"
     ]
    }
   ],
   "source": [
    "import sys\n",
    "print(sys.version)"
   ]
  },
  {
   "attachments": {},
   "cell_type": "markdown",
   "metadata": {},
   "source": [
    "# Load datasets"
   ]
  },
  {
   "cell_type": "code",
   "execution_count": 1,
   "metadata": {},
   "outputs": [],
   "source": [
    "import json\n",
    "\n",
    "def load_data(filename):\n",
    "    file = open(filename, 'r')\n",
    "    data = json.load(file)\n",
    "    file.close()\n",
    "    return data\n",
    "\n",
    "train_data = load_data(\"train-claims.json\")\n",
    "dev_data = load_data(\"dev-claims.json\")\n",
    "evidence_data = load_data(\"evidence.json\")\n",
    "test_data = load_data(\"test-claims-unlabelled.json\")\n",
    "\n",
    "# print(\"train_data: \", train_data)\n",
    "# print(\"dev_data: \", dev_data)\n",
    "# print(\"evidence_data: \", evidence_data)\n",
    "# for id, info in train_data.items():\n",
    "#     print(\"claim_id: \", id)\n",
    "#     print(\"claim_text: \", info['claim_text'])\n",
    "#     print(\"claim_label: \", info['claim_label'])\n",
    "#     print(\"evidences: \", info['evidences'])\n",
    "#     print()\n",
    "# print(\"dev_data: \", dev_data)\n",
    "# print(\"evidence_data: \", evidence_data)"
   ]
  },
  {
   "attachments": {},
   "cell_type": "markdown",
   "metadata": {},
   "source": [
    "# Preprocessing the data"
   ]
  },
  {
   "attachments": {},
   "cell_type": "markdown",
   "metadata": {},
   "source": [
    "Evidence retrieval"
   ]
  },
  {
   "cell_type": "code",
   "execution_count": 3,
   "metadata": {},
   "outputs": [],
   "source": [
    "from sklearn.feature_extraction.text import TfidfVectorizer\n",
    "from sklearn.metrics.pairwise import cosine_similarity\n",
    "\n",
    "# Retrieve top-k evidence\n",
    "def retrieve_top_k_evidence(claim, evidence_corpus, k=5):\n",
    "    evidence_ids = list(evidence_corpus.keys())\n",
    "    evidence_texts = list(evidence_corpus.values())\n",
    "    \n",
    "    vectorizer = TfidfVectorizer(stop_words='english')\n",
    "    evidence_matrix = vectorizer.fit_transform(evidence_texts)\n",
    "    claim_vector = vectorizer.transform([claim])\n",
    "    \n",
    "    similarities = cosine_similarity(claim_vector, evidence_matrix)\n",
    "    sorted_indices = similarities.argsort().flatten()[::-1]\n",
    "    \n",
    "    top_k_evidence_ids = [evidence_ids[i] for i in sorted_indices[:k]]\n",
    "    return top_k_evidence_ids\n"
   ]
  },
  {
   "attachments": {},
   "cell_type": "markdown",
   "metadata": {},
   "source": [
    "Create PyTorch Dataset and DataLoader for claim_label"
   ]
  },
  {
   "cell_type": "code",
   "execution_count": 4,
   "metadata": {},
   "outputs": [],
   "source": [
    "import torch\n",
    "from torch.utils.data import Dataset, DataLoader\n",
    "from transformers import AutoTokenizer\n",
    "\n",
    "tokenizer = AutoTokenizer.from_pretrained(\"bert-base-uncased\")\n",
    "\n",
    "class convertPytorchDataset(Dataset):\n",
    "    def __init__(self, claim_data, evidence_data, tokenizer, label_mapping):\n",
    "        self.claim_data = claim_data\n",
    "        self.evidence_data = evidence_data\n",
    "        self.tokenizer = tokenizer\n",
    "        self.label_mapping = label_mapping\n",
    "\n",
    "    def __len__(self):\n",
    "        return len(self.claim_data)\n",
    "\n",
    "    def __getitem__(self, idx):\n",
    "        claim_id, claim_data = list(self.claim_data.items())[idx]\n",
    "        claim_text = claim_data[\"claim_text\"]\n",
    "        claim_label = claim_data.get(\"claim_label\", None)\n",
    "\n",
    "        # Retrieve all evidence for the claim\n",
    "        evidence_ids = claim_data.get(\"evidence\", [])\n",
    "\n",
    "        # Tokenize claim and evidence\n",
    "        tokens = self.tokenizer.encode_plus(claim_text, truncation=True, padding=\"max_length\", max_length=512)\n",
    "\n",
    "        # Convert label to a number if available\n",
    "        if claim_label is not None:\n",
    "            label = self.label_mapping[claim_label]\n",
    "        else:\n",
    "            label = -1\n",
    "\n",
    "        item = {\n",
    "            \"input_ids\": torch.tensor(tokens[\"input_ids\"], dtype=torch.long),\n",
    "            \"attention_mask\": torch.tensor(tokens[\"attention_mask\"], dtype=torch.long),\n",
    "            \"claim_id\": claim_id,\n",
    "            \"claim_text\": claim_text,\n",
    "            \"labels\": torch.tensor(label, dtype=torch.long),\n",
    "            \"evidences\": evidence_ids\n",
    "        }\n",
    "\n",
    "        return item\n",
    "\n",
    "\n",
    "# Convert labels to numbers\n",
    "label_mapping = {\n",
    "    \"SUPPORTS\": 0,\n",
    "    \"REFUTES\": 1,\n",
    "    \"NOT_ENOUGH_INFO\": 2,\n",
    "    \"DISPUTED\": 3,\n",
    "}\n",
    "\n",
    "train_dataset = convertPytorchDataset(train_data, evidence_data, tokenizer, label_mapping)\n",
    "dev_dataset = convertPytorchDataset(dev_data, evidence_data, tokenizer, label_mapping)\n",
    "\n",
    "def collate_fn(batch):\n",
    "    non_empty_batch = [x for x in batch if x is not None]\n",
    "    if len(non_empty_batch) == 0:\n",
    "        return None\n",
    "\n",
    "    max_len = max([x[\"input_ids\"].shape[0] for x in non_empty_batch])\n",
    "    input_ids = torch.zeros(len(non_empty_batch), max_len, dtype=torch.long)\n",
    "    attention_mask = torch.zeros(len(non_empty_batch), max_len, dtype=torch.long)\n",
    "    labels = torch.zeros(len(non_empty_batch), dtype=torch.long)\n",
    "    claim_ids = []\n",
    "    claim_texts = []\n",
    "    evidences = []\n",
    "\n",
    "    for i, x in enumerate(non_empty_batch):\n",
    "        cur_len = x[\"input_ids\"].shape[0]\n",
    "        input_ids[i, :cur_len] = x[\"input_ids\"]\n",
    "        attention_mask[i, :cur_len] = x[\"attention_mask\"]\n",
    "        labels[i] = x[\"labels\"]\n",
    "        claim_ids.append(x[\"claim_id\"])\n",
    "        claim_texts.append(x[\"claim_text\"])\n",
    "        evidences.append(x[\"evidences\"])\n",
    "\n",
    "    return {\"input_ids\": input_ids, \"attention_mask\": attention_mask, \"claim_id\": claim_ids, \"claim_text\": claim_texts, \"labels\": labels, \"evidences\": evidences}\n",
    "\n",
    "\n",
    "\n",
    "train_dataloader = DataLoader(train_dataset, batch_size=2, shuffle=True, collate_fn=collate_fn)\n",
    "dev_dataloader = DataLoader(dev_dataset, batch_size=2, shuffle=False, collate_fn=collate_fn)\n"
   ]
  },
  {
   "attachments": {},
   "cell_type": "markdown",
   "metadata": {},
   "source": [
    "Create PyTorch dataset and dataloader for evidences"
   ]
  },
  {
   "cell_type": "code",
   "execution_count": null,
   "metadata": {},
   "outputs": [],
   "source": [
    "import random\n",
    "\n",
    "class EvidenceRetrievalDataset(Dataset):\n",
    "    def __init__(self, claim_data, evidence_data, tokenizer, num_negative_samples=5):\n",
    "        self.claim_data = claim_data\n",
    "        self.evidence_data = evidence_data\n",
    "        self.tokenizer = tokenizer\n",
    "        self.num_negative_samples = num_negative_samples\n",
    "        self.data = self.create_retrieval_data()\n",
    "\n",
    "    def create_retrieval_data(self):\n",
    "        retrieval_data = []\n",
    "\n",
    "        for claim_id, claim_info in self.claim_data.items():\n",
    "            claim_text = claim_info[\"claim_text\"]\n",
    "            relevant_evidences = set(claim_info.get(\"evidence\", []))\n",
    "\n",
    "            negative_samples = set(self.evidence_data.keys()) - relevant_evidences\n",
    "            negative_samples = random.sample(negative_samples, min(self.num_negative_samples, len(negative_samples)))\n",
    "\n",
    "            for evidence_id in relevant_evidences:\n",
    "                retrieval_data.append({\n",
    "                    \"claim_text\": claim_text,\n",
    "                    \"evidence_text\": self.evidence_data[evidence_id],\n",
    "                    \"label\": 1\n",
    "                })\n",
    "\n",
    "            for evidence_id in negative_samples:\n",
    "                retrieval_data.append({\n",
    "                    \"claim_text\": claim_text,\n",
    "                    \"evidence_text\": self.evidence_data[evidence_id],\n",
    "                    \"label\": 0\n",
    "                })\n",
    "\n",
    "        return retrieval_data\n",
    "\n",
    "    def __len__(self):\n",
    "        return len(self.data)\n",
    "\n",
    "    def __getitem__(self, idx):\n",
    "        example = self.data[idx]\n",
    "        claim_text = example[\"claim_text\"]\n",
    "        evidence_text = example[\"evidence_text\"]\n",
    "        label = example[\"label\"]\n",
    "\n",
    "        tokens = self.tokenizer.encode_plus(claim_text, evidence_text, truncation=True, padding=\"max_length\", max_length=512)\n",
    "\n",
    "        item = {\n",
    "            \"input_ids\": torch.tensor(tokens[\"input_ids\"], dtype=torch.long),\n",
    "            \"attention_mask\": torch.tensor(tokens[\"attention_mask\"], dtype=torch.long),\n",
    "            \"labels\": torch.tensor(label, dtype=torch.long)\n",
    "        }\n",
    "\n",
    "        return item\n",
    "\n",
    "train_evidence_dataset = EvidenceRetrievalDataset(train_data, evidence_data, tokenizer)\n",
    "dev_evidence_dataset = EvidenceRetrievalDataset(dev_data, evidence_data, tokenizer)\n",
    "\n",
    "def evidence_collate_fn(batch):\n",
    "    non_empty_batch = [x for x in batch if x is not None]\n",
    "    if len(non_empty_batch) == 0:\n",
    "        return None\n",
    "\n",
    "    max_len = max([x[\"input_ids\"].shape[0] for x in non_empty_batch])\n",
    "    input_ids = torch.zeros(len(non_empty_batch), max_len, dtype=torch.long)\n",
    "    attention_mask = torch.zeros(len(non_empty_batch), max_len, dtype=torch.long)\n",
    "    labels = torch.zeros(len(non_empty_batch), dtype=torch.long)\n",
    "\n",
    "    for i, x in enumerate(non_empty_batch):\n",
    "        cur_len = x[\"input_ids\"].shape[0]\n",
    "        input_ids[i, :cur_len] = x[\"input_ids\"]\n",
    "        attention_mask[i, :cur_len] = x[\"attention_mask\"]\n",
    "        labels[i] = x[\"labels\"]\n",
    "\n",
    "    return {\"input_ids\": input_ids, \"attention_mask\": attention_mask, \"labels\": labels}\n",
    "\n",
    "train_evidence_dataloader = DataLoader(train_evidence_dataset, batch_size=2, shuffle=True, collate_fn=evidence_collate_fn)\n",
    "dev_evidence_dataloader = DataLoader(dev_evidence_dataset, batch_size=2, shuffle=False, collate_fn=evidence_collate_fn)\n"
   ]
  },
  {
   "attachments": {},
   "cell_type": "markdown",
   "metadata": {},
   "source": [
    "# Training the model"
   ]
  },
  {
   "attachments": {},
   "cell_type": "markdown",
   "metadata": {},
   "source": [
    "Fine-tune hyperparameter"
   ]
  },
  {
   "cell_type": "code",
   "execution_count": null,
   "metadata": {},
   "outputs": [],
   "source": [
    "search_space = {\n",
    "    'learning_rate': [1e-4, 3e-5, 1e-5],\n",
    "    'batch_size': [8, 16, 32],\n",
    "    'epochs': [2, 3, 4]\n",
    "}\n",
    "\n",
    "def train_and_evaluate(params):\n",
    "    batch_size = params['batch_size']\n",
    "    lr = params['learning_rate']\n",
    "    epochs = params['epochs']\n",
    "\n",
    "    train_dataloader = DataLoader(train_dataset, batch_size=batch_size, shuffle=True, collate_fn=collate_fn)\n",
    "    dev_dataloader = DataLoader(dev_dataset, batch_size=batch_size, shuffle=False, collate_fn=collate_fn)\n",
    "\n",
    "    model = BertForSequenceClassification.from_pretrained(\"bert-base-uncased\", num_labels=num_labels)\n",
    "    model.to(device)\n",
    "\n",
    "    optimizer = AdamW(model.parameters(), lr=lr)\n",
    "    scheduler = get_linear_schedule_with_warmup(optimizer, num_warmup_steps=0, num_training_steps=len(train_dataloader) * epochs)\n",
    "\n",
    "    for epoch in range(epochs):\n",
    "        train_loss = train_epoch(model, train_dataloader, optimizer, scheduler, device)\n",
    "\n",
    "    val_accuracy = evaluate(model, dev_dataloader, device)\n",
    "\n",
    "    return val_accuracy\n",
    "\n",
    "\n",
    "# import itertools\n",
    "\n",
    "# best_val_accuracy = 0\n",
    "# best_params = None\n",
    "\n",
    "# for lr, batch_size, epochs in itertools.product(search_space['learning_rate'], search_space['batch_size'], search_space['epochs']):\n",
    "#     params = {'learning_rate': lr, 'batch_size': batch_size, 'epochs': epochs}\n",
    "#     print(f\"Trying parameters: {params}\")\n",
    "#     val_accuracy = train_and_evaluate(params)\n",
    "#     print(f\"Validation Accuracy: {val_accuracy:.4f}\")\n",
    "\n",
    "#     if val_accuracy > best_val_accuracy:\n",
    "#         best_val_accuracy = val_accuracy\n",
    "#         best_params = params\n",
    "\n",
    "# print(f\"Best hyperparameters: {best_params}\")\n",
    "# print(f\"Best validation accuracy: {best_val_accuracy:.4f}\")\n",
    "\n"
   ]
  },
  {
   "cell_type": "code",
   "execution_count": 5,
   "metadata": {},
   "outputs": [
    {
     "name": "stderr",
     "output_type": "stream",
     "text": [
      "Some weights of the model checkpoint at bert-base-uncased were not used when initializing BertForSequenceClassification: ['cls.predictions.transform.dense.bias', 'cls.seq_relationship.bias', 'cls.predictions.transform.LayerNorm.bias', 'cls.seq_relationship.weight', 'cls.predictions.decoder.weight', 'cls.predictions.transform.dense.weight', 'cls.predictions.bias', 'cls.predictions.transform.LayerNorm.weight']\n",
      "- This IS expected if you are initializing BertForSequenceClassification from the checkpoint of a model trained on another task or with another architecture (e.g. initializing a BertForSequenceClassification model from a BertForPreTraining model).\n",
      "- This IS NOT expected if you are initializing BertForSequenceClassification from the checkpoint of a model that you expect to be exactly identical (initializing a BertForSequenceClassification model from a BertForSequenceClassification model).\n",
      "Some weights of BertForSequenceClassification were not initialized from the model checkpoint at bert-base-uncased and are newly initialized: ['classifier.weight', 'classifier.bias']\n",
      "You should probably TRAIN this model on a down-stream task to be able to use it for predictions and inference.\n"
     ]
    },
    {
     "name": "stdout",
     "output_type": "stream",
     "text": [
      "Epoch 1/3\n"
     ]
    },
    {
     "name": "stderr",
     "output_type": "stream",
     "text": [
      "Training:   2%|▏         | 10/614 [01:17<1:17:46,  7.73s/it]\n"
     ]
    },
    {
     "ename": "KeyboardInterrupt",
     "evalue": "",
     "output_type": "error",
     "traceback": [
      "\u001b[0;31m---------------------------------------------------------------------------\u001b[0m",
      "\u001b[0;31mKeyboardInterrupt\u001b[0m                         Traceback (most recent call last)",
      "Cell \u001b[0;32mIn[5], line 45\u001b[0m\n\u001b[1;32m     43\u001b[0m \u001b[39mfor\u001b[39;00m epoch \u001b[39min\u001b[39;00m \u001b[39mrange\u001b[39m(epochs):\n\u001b[1;32m     44\u001b[0m     \u001b[39mprint\u001b[39m(\u001b[39mf\u001b[39m\u001b[39m\"\u001b[39m\u001b[39mEpoch \u001b[39m\u001b[39m{\u001b[39;00mepoch\u001b[39m+\u001b[39m\u001b[39m1\u001b[39m\u001b[39m}\u001b[39;00m\u001b[39m/\u001b[39m\u001b[39m{\u001b[39;00mepochs\u001b[39m}\u001b[39;00m\u001b[39m\"\u001b[39m)\n\u001b[0;32m---> 45\u001b[0m     train_loss \u001b[39m=\u001b[39m train_epoch(model, train_dataloader, optimizer, scheduler, device)\n\u001b[1;32m     46\u001b[0m     \u001b[39mprint\u001b[39m(\u001b[39mf\u001b[39m\u001b[39m\"\u001b[39m\u001b[39mTrain Loss: \u001b[39m\u001b[39m{\u001b[39;00mtrain_loss\u001b[39m:\u001b[39;00m\u001b[39m.4f\u001b[39m\u001b[39m}\u001b[39;00m\u001b[39m\"\u001b[39m)\n",
      "Cell \u001b[0;32mIn[5], line 34\u001b[0m, in \u001b[0;36mtrain_epoch\u001b[0;34m(model, dataloader, optimizer, scheduler, device)\u001b[0m\n\u001b[1;32m     31\u001b[0m outputs \u001b[39m=\u001b[39m model(input_ids, attention_mask\u001b[39m=\u001b[39mattention_mask, labels\u001b[39m=\u001b[39mlabels)\n\u001b[1;32m     32\u001b[0m loss \u001b[39m=\u001b[39m outputs\u001b[39m.\u001b[39mloss\n\u001b[0;32m---> 34\u001b[0m loss\u001b[39m.\u001b[39;49mbackward()\n\u001b[1;32m     35\u001b[0m optimizer\u001b[39m.\u001b[39mstep()\n\u001b[1;32m     36\u001b[0m scheduler\u001b[39m.\u001b[39mstep()\n",
      "File \u001b[0;32m~/miniconda3/envs/py38/lib/python3.8/site-packages/torch/_tensor.py:488\u001b[0m, in \u001b[0;36mTensor.backward\u001b[0;34m(self, gradient, retain_graph, create_graph, inputs)\u001b[0m\n\u001b[1;32m    478\u001b[0m \u001b[39mif\u001b[39;00m has_torch_function_unary(\u001b[39mself\u001b[39m):\n\u001b[1;32m    479\u001b[0m     \u001b[39mreturn\u001b[39;00m handle_torch_function(\n\u001b[1;32m    480\u001b[0m         Tensor\u001b[39m.\u001b[39mbackward,\n\u001b[1;32m    481\u001b[0m         (\u001b[39mself\u001b[39m,),\n\u001b[0;32m   (...)\u001b[0m\n\u001b[1;32m    486\u001b[0m         inputs\u001b[39m=\u001b[39minputs,\n\u001b[1;32m    487\u001b[0m     )\n\u001b[0;32m--> 488\u001b[0m torch\u001b[39m.\u001b[39;49mautograd\u001b[39m.\u001b[39;49mbackward(\n\u001b[1;32m    489\u001b[0m     \u001b[39mself\u001b[39;49m, gradient, retain_graph, create_graph, inputs\u001b[39m=\u001b[39;49minputs\n\u001b[1;32m    490\u001b[0m )\n",
      "File \u001b[0;32m~/miniconda3/envs/py38/lib/python3.8/site-packages/torch/autograd/__init__.py:197\u001b[0m, in \u001b[0;36mbackward\u001b[0;34m(tensors, grad_tensors, retain_graph, create_graph, grad_variables, inputs)\u001b[0m\n\u001b[1;32m    192\u001b[0m     retain_graph \u001b[39m=\u001b[39m create_graph\n\u001b[1;32m    194\u001b[0m \u001b[39m# The reason we repeat same the comment below is that\u001b[39;00m\n\u001b[1;32m    195\u001b[0m \u001b[39m# some Python versions print out the first line of a multi-line function\u001b[39;00m\n\u001b[1;32m    196\u001b[0m \u001b[39m# calls in the traceback and some print out the last line\u001b[39;00m\n\u001b[0;32m--> 197\u001b[0m Variable\u001b[39m.\u001b[39;49m_execution_engine\u001b[39m.\u001b[39;49mrun_backward(  \u001b[39m# Calls into the C++ engine to run the backward pass\u001b[39;49;00m\n\u001b[1;32m    198\u001b[0m     tensors, grad_tensors_, retain_graph, create_graph, inputs,\n\u001b[1;32m    199\u001b[0m     allow_unreachable\u001b[39m=\u001b[39;49m\u001b[39mTrue\u001b[39;49;00m, accumulate_grad\u001b[39m=\u001b[39;49m\u001b[39mTrue\u001b[39;49;00m)\n",
      "\u001b[0;31mKeyboardInterrupt\u001b[0m: "
     ]
    }
   ],
   "source": [
    "from transformers import BertForSequenceClassification\n",
    "\n",
    "num_labels = len(label_mapping)\n",
    "model = BertForSequenceClassification.from_pretrained(\"bert-base-uncased\", num_labels=num_labels)\n",
    "\n",
    "# If gpu available, use gpu.\n",
    "device = torch.device(\"cuda\" if torch.cuda.is_available() else \"cpu\")\n",
    "model.to(device)\n",
    "\n",
    "\n",
    "from transformers import AdamW, get_linear_schedule_with_warmup\n",
    "\n",
    "epochs = 3\n",
    "lr = 3e-5\n",
    "\n",
    "optimizer = AdamW(model.parameters(), lr=lr)\n",
    "scheduler = get_linear_schedule_with_warmup(optimizer, num_warmup_steps=0, num_training_steps=len(train_dataloader) * epochs)\n",
    "\n",
    "from tqdm import tqdm\n",
    "\n",
    "def train_epoch(model, dataloader, optimizer, scheduler, device):\n",
    "    model.train()\n",
    "    total_loss = 0\n",
    "    for batch in tqdm(dataloader, desc=\"Training\"):\n",
    "        optimizer.zero_grad()\n",
    "\n",
    "        input_ids = batch[\"input_ids\"].to(device)\n",
    "        attention_mask = batch[\"attention_mask\"].to(device)\n",
    "        labels = batch[\"labels\"].to(device)\n",
    "\n",
    "        outputs = model(input_ids, attention_mask=attention_mask, labels=labels)\n",
    "        loss = outputs.loss\n",
    "\n",
    "        loss.backward()\n",
    "        optimizer.step()\n",
    "        scheduler.step()\n",
    "\n",
    "        total_loss += loss.item()\n",
    "\n",
    "    avg_loss = total_loss / len(dataloader)\n",
    "    return avg_loss\n",
    "\n",
    "# for epoch in range(epochs):\n",
    "#     print(f\"Epoch {epoch+1}/{epochs}\")\n",
    "#     train_loss = train_epoch(model, train_dataloader, optimizer, scheduler, device)\n",
    "#     print(f\"Train Loss: {train_loss:.4f}\")\n"
   ]
  },
  {
   "attachments": {},
   "cell_type": "markdown",
   "metadata": {},
   "source": [
    "Train both models"
   ]
  },
  {
   "cell_type": "code",
   "execution_count": 1,
   "metadata": {},
   "outputs": [
    {
     "ename": "NameError",
     "evalue": "name 'BertForSequenceClassification' is not defined",
     "output_type": "error",
     "traceback": [
      "\u001b[0;31m---------------------------------------------------------------------------\u001b[0m",
      "\u001b[0;31mNameError\u001b[0m                                 Traceback (most recent call last)",
      "Cell \u001b[0;32mIn[1], line 2\u001b[0m\n\u001b[1;32m      1\u001b[0m \u001b[39m# Training the claim classification model\u001b[39;00m\n\u001b[0;32m----> 2\u001b[0m claim_classification_model \u001b[39m=\u001b[39m BertForSequenceClassification\u001b[39m.\u001b[39mfrom_pretrained(\u001b[39m\"\u001b[39m\u001b[39mbert-base-uncased\u001b[39m\u001b[39m\"\u001b[39m, num_labels\u001b[39m=\u001b[39mnum_labels)\n\u001b[1;32m      3\u001b[0m claim_classification_model\u001b[39m.\u001b[39mto(device)\n\u001b[1;32m      5\u001b[0m optimizer \u001b[39m=\u001b[39m AdamW(claim_classification_model\u001b[39m.\u001b[39mparameters(), lr\u001b[39m=\u001b[39mlr)\n",
      "\u001b[0;31mNameError\u001b[0m: name 'BertForSequenceClassification' is not defined"
     ]
    }
   ],
   "source": [
    "from transformers import BertForSequenceClassification\n",
    "\n",
    "# Training the claim classification model\n",
    "claim_classification_model = BertForSequenceClassification.from_pretrained(\"bert-base-uncased\", num_labels=num_labels)\n",
    "claim_classification_model.to(device)\n",
    "\n",
    "optimizer = AdamW(claim_classification_model.parameters(), lr=lr)\n",
    "scheduler = get_linear_schedule_with_warmup(optimizer, num_warmup_steps=0, num_training_steps=len(train_dataloader) * epochs)\n",
    "\n",
    "for epoch in range(epochs):\n",
    "    print(f\"Epoch {epoch+1}/{epochs} (Claim Classification)\")\n",
    "    train_loss = train_epoch(claim_classification_model, train_dataloader, optimizer, scheduler, device)\n",
    "    print(f\"Train Loss: {train_loss:.4f}\")\n",
    "\n",
    "# Training the evidence retrieval model\n",
    "evidence_retrieval_model = BertForSequenceClassification.from_pretrained(\"bert-base-uncased\", num_labels=2)\n",
    "evidence_retrieval_model.to(device)\n",
    "\n",
    "optimizer = AdamW(evidence_retrieval_model.parameters(), lr=lr)\n",
    "scheduler = get_linear_schedule_with_warmup(optimizer, num_warmup_steps=0, num_training_steps=len(train_retrieval_dataloader) * epochs)\n",
    "\n",
    "for epoch in range(epochs):\n",
    "    print(f\"Epoch {epoch+1}/{epochs} (Evidence Retrieval)\")\n",
    "    train_loss = train_epoch(evidence_retrieval_model, train_retrieval_dataloader, optimizer, scheduler, device)\n",
    "    print(f\"Train Loss: {train_loss:.4f}\")\n",
    "\n"
   ]
  },
  {
   "attachments": {},
   "cell_type": "markdown",
   "metadata": {},
   "source": [
    "Free GPU memory"
   ]
  },
  {
   "cell_type": "code",
   "execution_count": null,
   "metadata": {},
   "outputs": [],
   "source": [
    "import torch\n",
    "\n",
    "# Clear the GPU cache\n",
    "torch.cuda.empty_cache()\n",
    "\n",
    "from tensorflow.keras import backend as K\n",
    "\n",
    "# Clear the GPU memory\n",
    "K.clear_session()"
   ]
  },
  {
   "attachments": {},
   "cell_type": "markdown",
   "metadata": {},
   "source": [
    "# Prediction on dev data"
   ]
  },
  {
   "cell_type": "code",
   "execution_count": null,
   "metadata": {},
   "outputs": [],
   "source": [
    "label_mapping_inverse = {v: k for k, v in label_mapping.items()}\n",
    "\n",
    "def save_predictions(model, dataloader, output_file):\n",
    "    model.eval()\n",
    "    predictions = {}\n",
    "\n",
    "    for batch in dataloader:\n",
    "        input_ids = batch[\"input_ids\"].to(device)\n",
    "        attention_mask = batch[\"attention_mask\"].to(device)\n",
    "        claim_ids = batch[\"claim_id\"]\n",
    "        claim_texts = batch[\"claim_text\"]\n",
    "\n",
    "        with torch.no_grad():\n",
    "            outputs = model(input_ids, attention_mask=attention_mask)\n",
    "            _, predicted = torch.max(outputs.logits, 1)\n",
    "\n",
    "        for idx, claim_id in enumerate(claim_ids):\n",
    "            predictions[claim_id] = {\n",
    "                \"claim_text\": claim_texts[idx],\n",
    "                \"claim_label\": label_mapping_inverse[predicted[idx].item()],\n",
    "                \"evidences\": batch[\"evidences\"][idx]\n",
    "            }\n",
    "\n",
    "    with open(output_file, \"w\") as outfile:\n",
    "        json.dump(predictions, outfile, indent=2)\n",
    "\n",
    "save_predictions(model, dev_dataloader, \"dev_claims_out.json\")\n",
    "\n"
   ]
  },
  {
   "attachments": {},
   "cell_type": "markdown",
   "metadata": {},
   "source": [
    "# Prediction on test data"
   ]
  },
  {
   "cell_type": "code",
   "execution_count": null,
   "metadata": {},
   "outputs": [],
   "source": [
    "# Prediction function for both dev and test data\n",
    "def save_predictions(model, dataloader, output_file, has_labels=True):\n",
    "    model.eval()\n",
    "    predictions = {}\n",
    "\n",
    "    for batch in dataloader:\n",
    "        input_ids = batch[\"input_ids\"].to(device)\n",
    "        attention_mask = batch[\"attention_mask\"].to(device)\n",
    "        claim_ids = batch[\"claim_id\"]\n",
    "        claim_texts = batch[\"claim_text\"]\n",
    "\n",
    "        with torch.no_grad():\n",
    "            outputs = model(input_ids, attention_mask=attention_mask)\n",
    "            _, predicted = torch.max(outputs.logits, 1)\n",
    "\n",
    "        for idx, claim_id in enumerate(claim_ids):\n",
    "            predictions[claim_id] = {\n",
    "                \"claim_text\": claim_texts[idx],\n",
    "                \"claim_label\": label_mapping_inverse[predicted[idx].item()],\n",
    "                \"evidences\": batch[\"evidences\"][idx]\n",
    "            }\n",
    "\n",
    "    with open(output_file, \"w\") as outfile:\n",
    "        json.dump(predictions, outfile, indent=2)\n",
    "\n",
    "# Save predictions on dev data\n",
    "save_predictions(model, dev_dataloader, \"dev_claims_out.json\")\n",
    "\n",
    "# Save predictions on test data\n",
    "test_dataset = convertPytorchDataset(test_data, evidence_data, tokenizer, label_mapping)\n",
    "test_dataloader = DataLoader(test_dataset, batch_size=2, shuffle=False, collate_fn=collate_fn)\n",
    "save_predictions(model, test_dataloader, \"test_claims_out.json\", has_labels=False)"
   ]
  },
  {
   "attachments": {},
   "cell_type": "markdown",
   "metadata": {},
   "source": [
    "New prediction and save"
   ]
  },
  {
   "cell_type": "code",
   "execution_count": null,
   "metadata": {},
   "outputs": [],
   "source": [
    "def save_predictions(claim_classification_model, evidence_retrieval_model, dataloader, output_file, evidence_data, has_labels=True):\n",
    "    claim_classification_model.eval()\n",
    "    evidence_retrieval_model.eval()\n",
    "    predictions = {}\n",
    "\n",
    "    for batch in dataloader:\n",
    "        input_ids = batch[\"input_ids\"].to(device)\n",
    "        attention_mask = batch[\"attention_mask\"].to(device)\n",
    "        claim_ids = batch[\"claim_id\"]\n",
    "        claim_texts = batch[\"claim_text\"]\n",
    "\n",
    "        with torch.no_grad():\n",
    "            # Claim classification\n",
    "            claim_outputs = claim_classification_model(input_ids, attention_mask=attention_mask)\n",
    "            _, predicted_claim_label = torch.max(claim_outputs.logits, 1)\n",
    "\n",
    "            # Evidence retrieval\n",
    "            evidence_scores = []\n",
    "            for evidence_id, evidence_text in evidence_data.items():\n",
    "                tokens = tokenizer.encode_plus(claim_texts, evidence_text, truncation=True, padding=\"max_length\", max_length=512)\n",
    "                input_ids = torch.tensor([tokens[\"input_ids\"]], dtype=torch.long).to(device)\n",
    "                attention_mask = torch.tensor([tokens[\"attention_mask\"]], dtype=torch.long).to(device)\n",
    "\n",
    "                evidence_outputs = evidence_retrieval_model(input_ids, attention_mask=attention_mask)\n",
    "                evidence_score = torch.softmax(evidence_outputs.logits, dim=1)[:, 1]\n",
    "                evidence_scores.append((evidence_id, evidence_score.item()))\n",
    "\n",
    "            # Sort evidence by relevance scores\n",
    "            sorted_evidence = sorted(evidence_scores, key=lambda x: x[1], reverse=True)\n",
    "            # Take the top k most relevant evidence (you can choose k based on your preference)\n",
    "            k = 5\n",
    "            top_k_evidence = [evidence_id for evidence_id, _ in sorted_evidence[:k]]\n",
    "\n",
    "        for idx, claim_id in enumerate(claim_ids):\n",
    "            predictions[claim_id] = {\n",
    "                \"claim_text\": claim_texts[idx],\n",
    "                \"claim_label\": label_mapping_inverse[predicted_claim_label[idx].item()],\n",
    "                \"evidences\": top_k_evidence\n",
    "            }\n",
    "\n",
    "    with open(output_file, \"w\") as outfile:\n",
    "        json.dump(predictions, outfile, indent=2)\n",
    "\n",
    "# Save predictions on dev data\n",
    "save_predictions(claim_classification_model, evidence_retrieval_model, dev_dataloader, \"dev_claims_out.json\", evidence_data)\n",
    "\n",
    "# Save predictions on test data\n",
    "test_dataset = convertPytorchDataset(test_data, evidence_data, tokenizer, label_mapping)\n",
    "test_dataloader = DataLoader(test_dataset, batch_size=2, shuffle=False, collate_fn=collate_fn)\n",
    "save_predictions(claim_classification_model, evidence_retrieval_model, test_dataloader, \"test_claims_out.json\", evidence_data, has_labels=False)\n",
    "\n",
    "               \n"
   ]
  }
 ],
 "metadata": {
  "kernelspec": {
   "display_name": "Python 3 (ipykernel)",
   "language": "python",
   "name": "python3"
  },
  "language_info": {
   "codemirror_mode": {
    "name": "ipython",
    "version": 3
   },
   "file_extension": ".py",
   "mimetype": "text/x-python",
   "name": "python",
   "nbconvert_exporter": "python",
   "pygments_lexer": "ipython3",
   "version": "3.8.16"
  }
 },
 "nbformat": 4,
 "nbformat_minor": 2
}
