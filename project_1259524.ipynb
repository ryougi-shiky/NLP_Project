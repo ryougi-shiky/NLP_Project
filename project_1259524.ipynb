{
 "cells": [
  {
   "cell_type": "markdown",
   "metadata": {},
   "source": [
    "# Project: Automated Fact Checking For Climate Science Claims"
   ]
  },
  {
   "cell_type": "markdown",
   "metadata": {},
   "source": [
    "Student Name: Hongda Zhu\n",
    "\n",
    "Student ID: 1259524"
   ]
  },
  {
   "attachments": {},
   "cell_type": "markdown",
   "metadata": {},
   "source": [
    "This notebook builds a Automated Fact Checking System for 2023 COMP90042 Natural Language Processing Project.\n",
    "\n",
    "Note:\n",
    "1. Make sure all data file are loaded.\n",
    "2. Change the Environment Variables block. Set the parameters to run.\n",
    "3. Run eval.py to test the model. python eval.py --predictions output.json --groundtruth check_answers.json"
   ]
  },
  {
   "cell_type": "code",
   "execution_count": 12,
   "metadata": {},
   "outputs": [
    {
     "name": "stdout",
     "output_type": "stream",
     "text": [
      "3.8.16 (default, Mar  1 2023, 21:19:10) \n",
      "[Clang 14.0.6 ]\n",
      "1.13.1\n"
     ]
    }
   ],
   "source": [
    "import sys\n",
    "print(sys.version)\n",
    "\n",
    "import torch\n",
    "print(torch.__version__)\n"
   ]
  },
  {
   "attachments": {},
   "cell_type": "markdown",
   "metadata": {},
   "source": [
    "# Load datasets"
   ]
  },
  {
   "cell_type": "code",
   "execution_count": 13,
   "metadata": {},
   "outputs": [
    {
     "name": "stdout",
     "output_type": "stream",
     "text": [
      "Number of train_data:  1228\n",
      "Number of dev_data:  154\n",
      "Number of evidence_data:  1208827\n",
      "Number of test_data:  153\n",
      "Number of merged_data:  1382\n"
     ]
    }
   ],
   "source": [
    "import json\n",
    "\n",
    "def load_data(filename):\n",
    "    file = open(filename, 'r')\n",
    "    data = json.load(file)\n",
    "    file.close()\n",
    "    return data\n",
    "\n",
    "train_data = load_data(\"train-claims.json\")\n",
    "dev_data = load_data(\"dev-claims.json\")\n",
    "evidence_data = load_data(\"evidence.json\")\n",
    "test_data = load_data(\"test-claims-unlabelled.json\")\n",
    "# Merge train_data and dev_data to a larger dataset\n",
    "merged_data = train_data.copy()  \n",
    "merged_data.update(dev_data) \n",
    "\n",
    "print(\"Number of train_data: \", len(train_data))\n",
    "print(\"Number of dev_data: \", len(dev_data))\n",
    "print(\"Number of evidence_data: \", len(evidence_data))\n",
    "print(\"Number of test_data: \", len(test_data))\n",
    "print(\"Number of merged_data: \", len(merged_data))"
   ]
  },
  {
   "attachments": {},
   "cell_type": "markdown",
   "metadata": {},
   "source": [
    "# Environment variables\n",
    "\n",
    "You can modify the variable below to change the hyperparameters or the pretrained model."
   ]
  },
  {
   "cell_type": "code",
   "execution_count": 14,
   "metadata": {},
   "outputs": [],
   "source": [
    "import torch\n",
    "\n",
    "k = 3 # Top k relevant evidences\n",
    "max_seq_len = 64 # The maximum sequence length\n",
    "batch_size = 2 # Num of model training samples processed during a single iteration\n",
    "model_type = \"roberta-base\" # Set model to train. You can switch it to roberta-base or bert-base-uncased\n",
    "epochs = 3 # Number of epochs to train\n",
    "lr = 3e-5 # Model learning rate\n",
    "device = torch.device(\"cpu\") # Set cpu or cuda(gpu) to train the model.\n",
    "use_merged_data = True # Use megred_data to train the model"
   ]
  },
  {
   "attachments": {},
   "cell_type": "markdown",
   "metadata": {},
   "source": [
    "# Preprocessing the data"
   ]
  },
  {
   "attachments": {},
   "cell_type": "markdown",
   "metadata": {},
   "source": [
    "Evidence retrieval"
   ]
  },
  {
   "cell_type": "code",
   "execution_count": 15,
   "metadata": {},
   "outputs": [],
   "source": [
    "from sklearn.feature_extraction.text import TfidfVectorizer\n",
    "from sklearn.metrics.pairwise import cosine_similarity\n",
    "\n",
    "# To retrieve top k relevant evidences for the claim\n",
    "# fit_transform the evidence_text to TF-IDF matrix. transform claim_text to TF-IDF vector\n",
    "# Calculate cosine_similarity on evidence_text and claim_text\n",
    "# Return the top k relevant evidence_ids\n",
    "evidence_texts = list(evidence_data.values())\n",
    "vectorizer = TfidfVectorizer()\n",
    "evidence_texts_tfidf_matrix = vectorizer.fit_transform(evidence_texts)\n",
    "\n",
    "# Retrieve top-k evidence\n",
    "def get_top_k_evidence(claim_text):\n",
    "    claim_text_tfidf_vector = vectorizer.transform([claim_text])\n",
    "    similarities = cosine_similarity(claim_text_tfidf_vector, evidence_texts_tfidf_matrix)\n",
    "    # Get top k relevant evidence_ids\n",
    "    top_k_indices = similarities.argsort()[0][-k:][::-1]\n",
    "    top_k_evidence_ids = []\n",
    "    for index in top_k_indices:\n",
    "        evidence_id = list(evidence_data.keys())[index]\n",
    "        top_k_evidence_ids.append(evidence_id)\n",
    "    return top_k_evidence_ids\n",
    "\n",
    "# for dataset in [train_data, dev_data]:\n",
    "#     for claim_id, claim in dataset.items():\n",
    "#         claim['evidences'] = get_top_k_evidence(claim['claim_text'])"
   ]
  },
  {
   "attachments": {},
   "cell_type": "markdown",
   "metadata": {},
   "source": [
    "Create PyTorch Dataset and DataLoader for claim_label"
   ]
  },
  {
   "cell_type": "code",
   "execution_count": 16,
   "metadata": {},
   "outputs": [],
   "source": [
    "import torch\n",
    "from torch.utils.data import Dataset, DataLoader\n",
    "from transformers import AutoTokenizer\n",
    "\n",
    "tokenizer = AutoTokenizer.from_pretrained(model_type)\n",
    "\n",
    "# Mapping labels to numbers\n",
    "label_mapping = {\n",
    "    \"SUPPORTS\": 0,\n",
    "    \"REFUTES\": 1,\n",
    "    \"NOT_ENOUGH_INFO\": 2,\n",
    "    \"DISPUTED\": 3,\n",
    "}\n",
    "\n",
    "class convertPytorchDataset(Dataset):\n",
    "    def __init__(self, claim_data, evidence_data, tokenizer):\n",
    "        self.claim_data = claim_data\n",
    "        self.evidence_data = evidence_data\n",
    "        self.tokenizer = tokenizer\n",
    "\n",
    "    def __len__(self):\n",
    "        return len(self.claim_data)\n",
    "\n",
    "    def __getitem__(self, idx):\n",
    "        claim_id, claim_data = list(self.claim_data.items())[idx]\n",
    "        claim_text = claim_data[\"claim_text\"]\n",
    "        claim_label = claim_data.get(\"claim_label\", None)\n",
    "\n",
    "        # Retrieve top k evidences for the claim\n",
    "        evidence_ids = get_top_k_evidence(claim_text)\n",
    "        # Concatenate the claim text with the top-k evidence texts\n",
    "        evidence_texts = \" \"\n",
    "        # Get the corresponding evidence text from the evidence_data\n",
    "        for eid in evidence_ids:\n",
    "            evidence_text = evidence_data[eid]\n",
    "            evidence_texts += evidence_text + \" \"\n",
    "        claim_and_evidence_text = claim_text + evidence_texts.rstrip()\n",
    "\n",
    "        # Tokenize claim and evidence\n",
    "        # encode_plus can add special tokens like [CLS], [SEP], and do truncation and padding to the token\n",
    "        # Converts the tokens to a data form that model can process\n",
    "        tokens = self.tokenizer.encode_plus(claim_and_evidence_text, truncation=True, padding=\"max_length\", max_length=max_seq_len)\n",
    "\n",
    "        # Convert label to a number if available\n",
    "        if claim_label is not None:\n",
    "            label_num = label_mapping[claim_label]\n",
    "        else:\n",
    "            label_num = -1\n",
    "\n",
    "        item = {\n",
    "            \"input_ids\": torch.tensor(tokens[\"input_ids\"], dtype=torch.long),\n",
    "            \"attention_mask\": torch.tensor(tokens[\"attention_mask\"], dtype=torch.long),\n",
    "            \"claim_id\": claim_id,\n",
    "            \"claim_text\": claim_text,\n",
    "            \"labels\": torch.tensor(label_num, dtype=torch.long),\n",
    "            \"evidences\": evidence_ids\n",
    "        }\n",
    "        return item\n",
    "\n",
    "\n",
    "# Packing data into batch for creating dataloader\n",
    "def collate_fn(batch):\n",
    "    batch_list = []\n",
    "    for b in batch:\n",
    "        if b is not None:\n",
    "            batch_list.append(b)\n",
    "    if len(batch_list) == 0:\n",
    "        return None\n",
    "\n",
    "    max_len = 0\n",
    "    for b in batch_list:\n",
    "        current_len = b[\"input_ids\"].shape[0]\n",
    "        if current_len > max_len:\n",
    "            max_len = current_len\n",
    "\n",
    "    # Make sure each tensor is in the same shape, fill them with 0 if not consistent. \n",
    "    # Fill them up to the longest sequence in this batch.\n",
    "    input_ids = torch.zeros(len(batch_list), max_len, dtype=torch.long)\n",
    "    attention_mask = torch.zeros(len(batch_list), max_len, dtype=torch.long)\n",
    "    labels = torch.zeros(len(batch_list), dtype=torch.long)\n",
    "    claim_ids = []\n",
    "    claim_texts = []\n",
    "    evidences = []\n",
    "\n",
    "    for i in range(len(batch_list)):\n",
    "        b = batch_list[i]\n",
    "        cur_len = b[\"input_ids\"].shape[0]\n",
    "        for j in range(cur_len):\n",
    "            input_ids[i, j] = b[\"input_ids\"][j]\n",
    "            attention_mask[i, j] = b[\"attention_mask\"][j]\n",
    "        labels[i] = b[\"labels\"]\n",
    "        claim_ids.append(b[\"claim_id\"])\n",
    "        claim_texts.append(b[\"claim_text\"])\n",
    "        evidences.append(b[\"evidences\"])\n",
    "\n",
    "    return {\"input_ids\": input_ids, \"attention_mask\": attention_mask, \"claim_id\": claim_ids, \"claim_text\": claim_texts, \"claim_label\": labels, \"evidences\": evidences}\n"
   ]
  },
  {
   "attachments": {},
   "cell_type": "markdown",
   "metadata": {},
   "source": [
    "# Training the model"
   ]
  },
  {
   "cell_type": "code",
   "execution_count": 17,
   "metadata": {},
   "outputs": [
    {
     "name": "stderr",
     "output_type": "stream",
     "text": [
      "Some weights of the model checkpoint at roberta-base were not used when initializing RobertaForSequenceClassification: ['roberta.pooler.dense.weight', 'roberta.pooler.dense.bias', 'lm_head.layer_norm.bias', 'lm_head.layer_norm.weight', 'lm_head.dense.bias', 'lm_head.dense.weight', 'lm_head.bias', 'lm_head.decoder.weight']\n",
      "- This IS expected if you are initializing RobertaForSequenceClassification from the checkpoint of a model trained on another task or with another architecture (e.g. initializing a BertForSequenceClassification model from a BertForPreTraining model).\n",
      "- This IS NOT expected if you are initializing RobertaForSequenceClassification from the checkpoint of a model that you expect to be exactly identical (initializing a BertForSequenceClassification model from a BertForSequenceClassification model).\n",
      "Some weights of RobertaForSequenceClassification were not initialized from the model checkpoint at roberta-base and are newly initialized: ['classifier.dense.bias', 'classifier.out_proj.weight', 'classifier.out_proj.bias', 'classifier.dense.weight']\n",
      "You should probably TRAIN this model on a down-stream task to be able to use it for predictions and inference.\n",
      "/Users/shikiryougi/miniconda3/envs/py38/lib/python3.8/site-packages/transformers/optimization.py:306: FutureWarning: This implementation of AdamW is deprecated and will be removed in a future version. Use the PyTorch implementation torch.optim.AdamW instead, or set `no_deprecation_warning=True` to disable this warning\n",
      "  warnings.warn(\n"
     ]
    },
    {
     "name": "stdout",
     "output_type": "stream",
     "text": [
      "Training Epoch 1/3\n"
     ]
    },
    {
     "name": "stderr",
     "output_type": "stream",
     "text": [
      "Training: 100%|██████████| 691/691 [48:26<00:00,  4.21s/it]\n"
     ]
    },
    {
     "name": "stdout",
     "output_type": "stream",
     "text": [
      "Train Loss: 1.2815\n",
      "Training Epoch 2/3\n"
     ]
    },
    {
     "name": "stderr",
     "output_type": "stream",
     "text": [
      "Training:   9%|▊         | 59/691 [04:03<43:25,  4.12s/it]\n"
     ]
    },
    {
     "ename": "KeyboardInterrupt",
     "evalue": "",
     "output_type": "error",
     "traceback": [
      "\u001b[0;31m---------------------------------------------------------------------------\u001b[0m",
      "\u001b[0;31mKeyboardInterrupt\u001b[0m                         Traceback (most recent call last)",
      "Cell \u001b[0;32mIn[17], line 45\u001b[0m\n\u001b[1;32m     43\u001b[0m \u001b[39mfor\u001b[39;00m epoch \u001b[39min\u001b[39;00m \u001b[39mrange\u001b[39m(epochs):\n\u001b[1;32m     44\u001b[0m     \u001b[39mprint\u001b[39m(\u001b[39mf\u001b[39m\u001b[39m\"\u001b[39m\u001b[39mTraining Epoch \u001b[39m\u001b[39m{\u001b[39;00mepoch\u001b[39m+\u001b[39m\u001b[39m1\u001b[39m\u001b[39m}\u001b[39;00m\u001b[39m/\u001b[39m\u001b[39m{\u001b[39;00mepochs\u001b[39m}\u001b[39;00m\u001b[39m\"\u001b[39m)\n\u001b[0;32m---> 45\u001b[0m     train_loss \u001b[39m=\u001b[39m train_epoch(claim_classification_model, train_dataloader, optimizer, scheduler, device)\n\u001b[1;32m     46\u001b[0m     \u001b[39mprint\u001b[39m(\u001b[39mf\u001b[39m\u001b[39m\"\u001b[39m\u001b[39mTrain Loss: \u001b[39m\u001b[39m{\u001b[39;00mtrain_loss\u001b[39m:\u001b[39;00m\u001b[39m.4f\u001b[39m\u001b[39m}\u001b[39;00m\u001b[39m\"\u001b[39m)\n",
      "Cell \u001b[0;32mIn[17], line 8\u001b[0m, in \u001b[0;36mtrain_epoch\u001b[0;34m(model, dataloader, optimizer, scheduler, device)\u001b[0m\n\u001b[1;32m      6\u001b[0m model\u001b[39m.\u001b[39mtrain()\n\u001b[1;32m      7\u001b[0m total_loss \u001b[39m=\u001b[39m \u001b[39m0\u001b[39m\n\u001b[0;32m----> 8\u001b[0m \u001b[39mfor\u001b[39;00m batch \u001b[39min\u001b[39;00m tqdm(dataloader, desc\u001b[39m=\u001b[39m\u001b[39m\"\u001b[39m\u001b[39mTraining\u001b[39m\u001b[39m\"\u001b[39m):\n\u001b[1;32m      9\u001b[0m     optimizer\u001b[39m.\u001b[39mzero_grad() \u001b[39m# Resets the gradients from the previous step to prevent accumulation.\u001b[39;00m\n\u001b[1;32m     11\u001b[0m     input_ids \u001b[39m=\u001b[39m batch[\u001b[39m\"\u001b[39m\u001b[39minput_ids\u001b[39m\u001b[39m\"\u001b[39m]\u001b[39m.\u001b[39mto(device)\n",
      "File \u001b[0;32m~/miniconda3/envs/py38/lib/python3.8/site-packages/tqdm/std.py:1178\u001b[0m, in \u001b[0;36mtqdm.__iter__\u001b[0;34m(self)\u001b[0m\n\u001b[1;32m   1175\u001b[0m time \u001b[39m=\u001b[39m \u001b[39mself\u001b[39m\u001b[39m.\u001b[39m_time\n\u001b[1;32m   1177\u001b[0m \u001b[39mtry\u001b[39;00m:\n\u001b[0;32m-> 1178\u001b[0m     \u001b[39mfor\u001b[39;00m obj \u001b[39min\u001b[39;00m iterable:\n\u001b[1;32m   1179\u001b[0m         \u001b[39myield\u001b[39;00m obj\n\u001b[1;32m   1180\u001b[0m         \u001b[39m# Update and possibly print the progressbar.\u001b[39;00m\n\u001b[1;32m   1181\u001b[0m         \u001b[39m# Note: does not call self.update(1) for speed optimisation.\u001b[39;00m\n",
      "File \u001b[0;32m~/miniconda3/envs/py38/lib/python3.8/site-packages/torch/utils/data/dataloader.py:628\u001b[0m, in \u001b[0;36m_BaseDataLoaderIter.__next__\u001b[0;34m(self)\u001b[0m\n\u001b[1;32m    625\u001b[0m \u001b[39mif\u001b[39;00m \u001b[39mself\u001b[39m\u001b[39m.\u001b[39m_sampler_iter \u001b[39mis\u001b[39;00m \u001b[39mNone\u001b[39;00m:\n\u001b[1;32m    626\u001b[0m     \u001b[39m# TODO(https://github.com/pytorch/pytorch/issues/76750)\u001b[39;00m\n\u001b[1;32m    627\u001b[0m     \u001b[39mself\u001b[39m\u001b[39m.\u001b[39m_reset()  \u001b[39m# type: ignore[call-arg]\u001b[39;00m\n\u001b[0;32m--> 628\u001b[0m data \u001b[39m=\u001b[39m \u001b[39mself\u001b[39;49m\u001b[39m.\u001b[39;49m_next_data()\n\u001b[1;32m    629\u001b[0m \u001b[39mself\u001b[39m\u001b[39m.\u001b[39m_num_yielded \u001b[39m+\u001b[39m\u001b[39m=\u001b[39m \u001b[39m1\u001b[39m\n\u001b[1;32m    630\u001b[0m \u001b[39mif\u001b[39;00m \u001b[39mself\u001b[39m\u001b[39m.\u001b[39m_dataset_kind \u001b[39m==\u001b[39m _DatasetKind\u001b[39m.\u001b[39mIterable \u001b[39mand\u001b[39;00m \\\n\u001b[1;32m    631\u001b[0m         \u001b[39mself\u001b[39m\u001b[39m.\u001b[39m_IterableDataset_len_called \u001b[39mis\u001b[39;00m \u001b[39mnot\u001b[39;00m \u001b[39mNone\u001b[39;00m \u001b[39mand\u001b[39;00m \\\n\u001b[1;32m    632\u001b[0m         \u001b[39mself\u001b[39m\u001b[39m.\u001b[39m_num_yielded \u001b[39m>\u001b[39m \u001b[39mself\u001b[39m\u001b[39m.\u001b[39m_IterableDataset_len_called:\n",
      "File \u001b[0;32m~/miniconda3/envs/py38/lib/python3.8/site-packages/torch/utils/data/dataloader.py:671\u001b[0m, in \u001b[0;36m_SingleProcessDataLoaderIter._next_data\u001b[0;34m(self)\u001b[0m\n\u001b[1;32m    669\u001b[0m \u001b[39mdef\u001b[39;00m \u001b[39m_next_data\u001b[39m(\u001b[39mself\u001b[39m):\n\u001b[1;32m    670\u001b[0m     index \u001b[39m=\u001b[39m \u001b[39mself\u001b[39m\u001b[39m.\u001b[39m_next_index()  \u001b[39m# may raise StopIteration\u001b[39;00m\n\u001b[0;32m--> 671\u001b[0m     data \u001b[39m=\u001b[39m \u001b[39mself\u001b[39;49m\u001b[39m.\u001b[39;49m_dataset_fetcher\u001b[39m.\u001b[39;49mfetch(index)  \u001b[39m# may raise StopIteration\u001b[39;00m\n\u001b[1;32m    672\u001b[0m     \u001b[39mif\u001b[39;00m \u001b[39mself\u001b[39m\u001b[39m.\u001b[39m_pin_memory:\n\u001b[1;32m    673\u001b[0m         data \u001b[39m=\u001b[39m _utils\u001b[39m.\u001b[39mpin_memory\u001b[39m.\u001b[39mpin_memory(data, \u001b[39mself\u001b[39m\u001b[39m.\u001b[39m_pin_memory_device)\n",
      "File \u001b[0;32m~/miniconda3/envs/py38/lib/python3.8/site-packages/torch/utils/data/_utils/fetch.py:58\u001b[0m, in \u001b[0;36m_MapDatasetFetcher.fetch\u001b[0;34m(self, possibly_batched_index)\u001b[0m\n\u001b[1;32m     56\u001b[0m         data \u001b[39m=\u001b[39m \u001b[39mself\u001b[39m\u001b[39m.\u001b[39mdataset\u001b[39m.\u001b[39m__getitems__(possibly_batched_index)\n\u001b[1;32m     57\u001b[0m     \u001b[39melse\u001b[39;00m:\n\u001b[0;32m---> 58\u001b[0m         data \u001b[39m=\u001b[39m [\u001b[39mself\u001b[39m\u001b[39m.\u001b[39mdataset[idx] \u001b[39mfor\u001b[39;00m idx \u001b[39min\u001b[39;00m possibly_batched_index]\n\u001b[1;32m     59\u001b[0m \u001b[39melse\u001b[39;00m:\n\u001b[1;32m     60\u001b[0m     data \u001b[39m=\u001b[39m \u001b[39mself\u001b[39m\u001b[39m.\u001b[39mdataset[possibly_batched_index]\n",
      "File \u001b[0;32m~/miniconda3/envs/py38/lib/python3.8/site-packages/torch/utils/data/_utils/fetch.py:58\u001b[0m, in \u001b[0;36m<listcomp>\u001b[0;34m(.0)\u001b[0m\n\u001b[1;32m     56\u001b[0m         data \u001b[39m=\u001b[39m \u001b[39mself\u001b[39m\u001b[39m.\u001b[39mdataset\u001b[39m.\u001b[39m__getitems__(possibly_batched_index)\n\u001b[1;32m     57\u001b[0m     \u001b[39melse\u001b[39;00m:\n\u001b[0;32m---> 58\u001b[0m         data \u001b[39m=\u001b[39m [\u001b[39mself\u001b[39;49m\u001b[39m.\u001b[39;49mdataset[idx] \u001b[39mfor\u001b[39;00m idx \u001b[39min\u001b[39;00m possibly_batched_index]\n\u001b[1;32m     59\u001b[0m \u001b[39melse\u001b[39;00m:\n\u001b[1;32m     60\u001b[0m     data \u001b[39m=\u001b[39m \u001b[39mself\u001b[39m\u001b[39m.\u001b[39mdataset[possibly_batched_index]\n",
      "Cell \u001b[0;32mIn[16], line 30\u001b[0m, in \u001b[0;36mconvertPytorchDataset.__getitem__\u001b[0;34m(self, idx)\u001b[0m\n\u001b[1;32m     27\u001b[0m claim_label \u001b[39m=\u001b[39m claim_data\u001b[39m.\u001b[39mget(\u001b[39m\"\u001b[39m\u001b[39mclaim_label\u001b[39m\u001b[39m\"\u001b[39m, \u001b[39mNone\u001b[39;00m)\n\u001b[1;32m     29\u001b[0m \u001b[39m# Retrieve top k evidences for the claim\u001b[39;00m\n\u001b[0;32m---> 30\u001b[0m evidence_ids \u001b[39m=\u001b[39m get_top_k_evidence(claim_text)\n\u001b[1;32m     31\u001b[0m \u001b[39m# Concatenate the claim text with the top-k evidence texts\u001b[39;00m\n\u001b[1;32m     32\u001b[0m evidence_texts \u001b[39m=\u001b[39m \u001b[39m\"\u001b[39m\u001b[39m \u001b[39m\u001b[39m\"\u001b[39m\n",
      "Cell \u001b[0;32mIn[15], line 15\u001b[0m, in \u001b[0;36mget_top_k_evidence\u001b[0;34m(claim_text)\u001b[0m\n\u001b[1;32m     13\u001b[0m \u001b[39mdef\u001b[39;00m \u001b[39mget_top_k_evidence\u001b[39m(claim_text):\n\u001b[1;32m     14\u001b[0m     claim_text_tfidf_vector \u001b[39m=\u001b[39m vectorizer\u001b[39m.\u001b[39mtransform([claim_text])\n\u001b[0;32m---> 15\u001b[0m     similarities \u001b[39m=\u001b[39m cosine_similarity(claim_text_tfidf_vector, evidence_texts_tfidf_matrix)\n\u001b[1;32m     16\u001b[0m     \u001b[39m# Get top k relevant evidence_ids\u001b[39;00m\n\u001b[1;32m     17\u001b[0m     top_k_indices \u001b[39m=\u001b[39m similarities\u001b[39m.\u001b[39margsort()[\u001b[39m0\u001b[39m][\u001b[39m-\u001b[39mk:][::\u001b[39m-\u001b[39m\u001b[39m1\u001b[39m]\n",
      "File \u001b[0;32m~/miniconda3/envs/py38/lib/python3.8/site-packages/sklearn/metrics/pairwise.py:1401\u001b[0m, in \u001b[0;36mcosine_similarity\u001b[0;34m(X, Y, dense_output)\u001b[0m\n\u001b[1;32m   1398\u001b[0m \u001b[39melse\u001b[39;00m:\n\u001b[1;32m   1399\u001b[0m     Y_normalized \u001b[39m=\u001b[39m normalize(Y, copy\u001b[39m=\u001b[39m\u001b[39mTrue\u001b[39;00m)\n\u001b[0;32m-> 1401\u001b[0m K \u001b[39m=\u001b[39m safe_sparse_dot(X_normalized, Y_normalized\u001b[39m.\u001b[39;49mT, dense_output\u001b[39m=\u001b[39;49mdense_output)\n\u001b[1;32m   1403\u001b[0m \u001b[39mreturn\u001b[39;00m K\n",
      "File \u001b[0;32m~/miniconda3/envs/py38/lib/python3.8/site-packages/sklearn/utils/extmath.py:189\u001b[0m, in \u001b[0;36msafe_sparse_dot\u001b[0;34m(a, b, dense_output)\u001b[0m\n\u001b[1;32m    187\u001b[0m         ret \u001b[39m=\u001b[39m np\u001b[39m.\u001b[39mdot(a, b)\n\u001b[1;32m    188\u001b[0m \u001b[39melse\u001b[39;00m:\n\u001b[0;32m--> 189\u001b[0m     ret \u001b[39m=\u001b[39m a \u001b[39m@\u001b[39;49m b\n\u001b[1;32m    191\u001b[0m \u001b[39mif\u001b[39;00m (\n\u001b[1;32m    192\u001b[0m     sparse\u001b[39m.\u001b[39missparse(a)\n\u001b[1;32m    193\u001b[0m     \u001b[39mand\u001b[39;00m sparse\u001b[39m.\u001b[39missparse(b)\n\u001b[1;32m    194\u001b[0m     \u001b[39mand\u001b[39;00m dense_output\n\u001b[1;32m    195\u001b[0m     \u001b[39mand\u001b[39;00m \u001b[39mhasattr\u001b[39m(ret, \u001b[39m\"\u001b[39m\u001b[39mtoarray\u001b[39m\u001b[39m\"\u001b[39m)\n\u001b[1;32m    196\u001b[0m ):\n\u001b[1;32m    197\u001b[0m     \u001b[39mreturn\u001b[39;00m ret\u001b[39m.\u001b[39mtoarray()\n",
      "File \u001b[0;32m~/miniconda3/envs/py38/lib/python3.8/site-packages/scipy/sparse/_base.py:630\u001b[0m, in \u001b[0;36mspmatrix.__matmul__\u001b[0;34m(self, other)\u001b[0m\n\u001b[1;32m    627\u001b[0m \u001b[39mif\u001b[39;00m isscalarlike(other):\n\u001b[1;32m    628\u001b[0m     \u001b[39mraise\u001b[39;00m \u001b[39mValueError\u001b[39;00m(\u001b[39m\"\u001b[39m\u001b[39mScalar operands are not allowed, \u001b[39m\u001b[39m\"\u001b[39m\n\u001b[1;32m    629\u001b[0m                      \u001b[39m\"\u001b[39m\u001b[39muse \u001b[39m\u001b[39m'\u001b[39m\u001b[39m*\u001b[39m\u001b[39m'\u001b[39m\u001b[39m instead\u001b[39m\u001b[39m\"\u001b[39m)\n\u001b[0;32m--> 630\u001b[0m \u001b[39mreturn\u001b[39;00m \u001b[39mself\u001b[39;49m\u001b[39m.\u001b[39;49m_mul_dispatch(other)\n",
      "File \u001b[0;32m~/miniconda3/envs/py38/lib/python3.8/site-packages/scipy/sparse/_base.py:541\u001b[0m, in \u001b[0;36mspmatrix._mul_dispatch\u001b[0;34m(self, other)\u001b[0m\n\u001b[1;32m    539\u001b[0m     \u001b[39mif\u001b[39;00m \u001b[39mself\u001b[39m\u001b[39m.\u001b[39mshape[\u001b[39m1\u001b[39m] \u001b[39m!=\u001b[39m other\u001b[39m.\u001b[39mshape[\u001b[39m0\u001b[39m]:\n\u001b[1;32m    540\u001b[0m         \u001b[39mraise\u001b[39;00m \u001b[39mValueError\u001b[39;00m(\u001b[39m'\u001b[39m\u001b[39mdimension mismatch\u001b[39m\u001b[39m'\u001b[39m)\n\u001b[0;32m--> 541\u001b[0m     \u001b[39mreturn\u001b[39;00m \u001b[39mself\u001b[39;49m\u001b[39m.\u001b[39;49m_mul_sparse_matrix(other)\n\u001b[1;32m    543\u001b[0m \u001b[39m# If it's a list or whatever, treat it like a matrix\u001b[39;00m\n\u001b[1;32m    544\u001b[0m other_a \u001b[39m=\u001b[39m np\u001b[39m.\u001b[39masanyarray(other)\n",
      "File \u001b[0;32m~/miniconda3/envs/py38/lib/python3.8/site-packages/scipy/sparse/_compressed.py:512\u001b[0m, in \u001b[0;36m_cs_matrix._mul_sparse_matrix\u001b[0;34m(self, other)\u001b[0m\n\u001b[1;32m    509\u001b[0m K2, N \u001b[39m=\u001b[39m other\u001b[39m.\u001b[39mshape\n\u001b[1;32m    511\u001b[0m major_axis \u001b[39m=\u001b[39m \u001b[39mself\u001b[39m\u001b[39m.\u001b[39m_swap((M, N))[\u001b[39m0\u001b[39m]\n\u001b[0;32m--> 512\u001b[0m other \u001b[39m=\u001b[39m \u001b[39mself\u001b[39;49m\u001b[39m.\u001b[39;49m\u001b[39m__class__\u001b[39;49m(other)  \u001b[39m# convert to this format\u001b[39;00m\n\u001b[1;32m    514\u001b[0m idx_dtype \u001b[39m=\u001b[39m get_index_dtype((\u001b[39mself\u001b[39m\u001b[39m.\u001b[39mindptr, \u001b[39mself\u001b[39m\u001b[39m.\u001b[39mindices,\n\u001b[1;32m    515\u001b[0m                              other\u001b[39m.\u001b[39mindptr, other\u001b[39m.\u001b[39mindices))\n\u001b[1;32m    517\u001b[0m fn \u001b[39m=\u001b[39m \u001b[39mgetattr\u001b[39m(_sparsetools, \u001b[39mself\u001b[39m\u001b[39m.\u001b[39mformat \u001b[39m+\u001b[39m \u001b[39m'\u001b[39m\u001b[39m_matmat_maxnnz\u001b[39m\u001b[39m'\u001b[39m)\n",
      "File \u001b[0;32m~/miniconda3/envs/py38/lib/python3.8/site-packages/scipy/sparse/_compressed.py:33\u001b[0m, in \u001b[0;36m_cs_matrix.__init__\u001b[0;34m(self, arg1, shape, dtype, copy)\u001b[0m\n\u001b[1;32m     31\u001b[0m         arg1 \u001b[39m=\u001b[39m arg1\u001b[39m.\u001b[39mcopy()\n\u001b[1;32m     32\u001b[0m     \u001b[39melse\u001b[39;00m:\n\u001b[0;32m---> 33\u001b[0m         arg1 \u001b[39m=\u001b[39m arg1\u001b[39m.\u001b[39;49masformat(\u001b[39mself\u001b[39;49m\u001b[39m.\u001b[39;49mformat)\n\u001b[1;32m     34\u001b[0m     \u001b[39mself\u001b[39m\u001b[39m.\u001b[39m_set_self(arg1)\n\u001b[1;32m     36\u001b[0m \u001b[39melif\u001b[39;00m \u001b[39misinstance\u001b[39m(arg1, \u001b[39mtuple\u001b[39m):\n",
      "File \u001b[0;32m~/miniconda3/envs/py38/lib/python3.8/site-packages/scipy/sparse/_base.py:376\u001b[0m, in \u001b[0;36mspmatrix.asformat\u001b[0;34m(self, format, copy)\u001b[0m\n\u001b[1;32m    374\u001b[0m \u001b[39m# Forward the copy kwarg, if it's accepted.\u001b[39;00m\n\u001b[1;32m    375\u001b[0m \u001b[39mtry\u001b[39;00m:\n\u001b[0;32m--> 376\u001b[0m     \u001b[39mreturn\u001b[39;00m convert_method(copy\u001b[39m=\u001b[39;49mcopy)\n\u001b[1;32m    377\u001b[0m \u001b[39mexcept\u001b[39;00m \u001b[39mTypeError\u001b[39;00m:\n\u001b[1;32m    378\u001b[0m     \u001b[39mreturn\u001b[39;00m convert_method()\n",
      "File \u001b[0;32m~/miniconda3/envs/py38/lib/python3.8/site-packages/scipy/sparse/_csc.py:140\u001b[0m, in \u001b[0;36mcsc_matrix.tocsr\u001b[0;34m(self, copy)\u001b[0m\n\u001b[1;32m    137\u001b[0m indices \u001b[39m=\u001b[39m np\u001b[39m.\u001b[39mempty(\u001b[39mself\u001b[39m\u001b[39m.\u001b[39mnnz, dtype\u001b[39m=\u001b[39midx_dtype)\n\u001b[1;32m    138\u001b[0m data \u001b[39m=\u001b[39m np\u001b[39m.\u001b[39mempty(\u001b[39mself\u001b[39m\u001b[39m.\u001b[39mnnz, dtype\u001b[39m=\u001b[39mupcast(\u001b[39mself\u001b[39m\u001b[39m.\u001b[39mdtype))\n\u001b[0;32m--> 140\u001b[0m csc_tocsr(M, N,\n\u001b[1;32m    141\u001b[0m           \u001b[39mself\u001b[39;49m\u001b[39m.\u001b[39;49mindptr\u001b[39m.\u001b[39;49mastype(idx_dtype),\n\u001b[1;32m    142\u001b[0m           \u001b[39mself\u001b[39;49m\u001b[39m.\u001b[39;49mindices\u001b[39m.\u001b[39;49mastype(idx_dtype),\n\u001b[1;32m    143\u001b[0m           \u001b[39mself\u001b[39;49m\u001b[39m.\u001b[39;49mdata,\n\u001b[1;32m    144\u001b[0m           indptr,\n\u001b[1;32m    145\u001b[0m           indices,\n\u001b[1;32m    146\u001b[0m           data)\n\u001b[1;32m    148\u001b[0m A \u001b[39m=\u001b[39m \u001b[39mself\u001b[39m\u001b[39m.\u001b[39m_csr_container(\n\u001b[1;32m    149\u001b[0m     (data, indices, indptr),\n\u001b[1;32m    150\u001b[0m     shape\u001b[39m=\u001b[39m\u001b[39mself\u001b[39m\u001b[39m.\u001b[39mshape, copy\u001b[39m=\u001b[39m\u001b[39mFalse\u001b[39;00m\n\u001b[1;32m    151\u001b[0m )\n\u001b[1;32m    152\u001b[0m A\u001b[39m.\u001b[39mhas_sorted_indices \u001b[39m=\u001b[39m \u001b[39mTrue\u001b[39;00m\n",
      "\u001b[0;31mKeyboardInterrupt\u001b[0m: "
     ]
    }
   ],
   "source": [
    "from transformers import AutoModelForSequenceClassification\n",
    "from transformers import AdamW, get_linear_schedule_with_warmup\n",
    "from tqdm import tqdm\n",
    "\n",
    "def train_epoch(model, dataloader, optimizer, scheduler, device):\n",
    "    model.train()\n",
    "    total_loss = 0\n",
    "    for batch in tqdm(dataloader, desc=\"Training\"):\n",
    "        optimizer.zero_grad() # Resets the gradients from the previous step to prevent accumulation.\n",
    "\n",
    "        input_ids = batch[\"input_ids\"].to(device)\n",
    "        attention_mask = batch[\"attention_mask\"].to(device)\n",
    "        labels = batch[\"claim_label\"].to(device)\n",
    "\n",
    "        outputs = model(input_ids, attention_mask=attention_mask, labels=labels)\n",
    "        loss = outputs.loss\n",
    "\n",
    "        loss.backward() # Calculates the gradients for each parameter\n",
    "        optimizer.step() # Update parameters based on gradients\n",
    "        scheduler.step() # Update learning rate\n",
    "\n",
    "        total_loss += loss.item()\n",
    "    # Calculate the average loss \n",
    "    avg_loss = total_loss / len(dataloader)\n",
    "    return avg_loss\n",
    "\n",
    "num_labels = len(label_mapping)\n",
    "# If useMergedData = True, use merged_data to train the model\n",
    "if use_merged_data:\n",
    "    train_data = merged_data.copy()\n",
    "    \n",
    "train_dataset = convertPytorchDataset(train_data, evidence_data, tokenizer)\n",
    "train_dataloader = DataLoader(train_dataset, batch_size=batch_size, shuffle=True, collate_fn=collate_fn)\n",
    "\n",
    "# Create the model\n",
    "claim_classification_model = AutoModelForSequenceClassification.from_pretrained(model_type, num_labels=num_labels)\n",
    "claim_classification_model.to(device)\n",
    "# To adjust the parameters of model during training\n",
    "optimizer = AdamW(claim_classification_model.parameters(), lr=lr)\n",
    "# To adjust learning rate during training\n",
    "scheduler = get_linear_schedule_with_warmup(optimizer, num_warmup_steps=0, num_training_steps=len(train_dataloader) * epochs)\n",
    "\n",
    "for epoch in range(epochs):\n",
    "    print(f\"Training Epoch {epoch+1}/{epochs}\")\n",
    "    train_loss = train_epoch(claim_classification_model, train_dataloader, optimizer, scheduler, device)\n",
    "    print(f\"Train Loss: {train_loss:.4f}\")"
   ]
  },
  {
   "attachments": {},
   "cell_type": "markdown",
   "metadata": {},
   "source": [
    "# Prediction on test data"
   ]
  },
  {
   "cell_type": "code",
   "execution_count": null,
   "metadata": {},
   "outputs": [],
   "source": [
    "labelNum_mapping = {\n",
    "    0: \"SUPPORTS\",\n",
    "    1: \"REFUTES\",\n",
    "    2: \"NOT_ENOUGH_INFO\",\n",
    "    3: \"DISPUTED\",\n",
    "}\n",
    "\n",
    "# Prediction function for both dev and test data\n",
    "def save_predictions(claim_classification_model, dataloader, output_file, has_labels=True):\n",
    "    claim_classification_model.eval()\n",
    "    predictions = {} # Store prediction output\n",
    "\n",
    "    for batch in dataloader:\n",
    "        input_ids = batch[\"input_ids\"].to(device)\n",
    "        attention_mask = batch[\"attention_mask\"].to(device)\n",
    "        claim_ids = batch[\"claim_id\"]\n",
    "        claim_texts = batch[\"claim_text\"]\n",
    "        evidences = batch[\"evidences\"]\n",
    "        \n",
    "        with torch.no_grad(): # Disable gradient computation to save memory\n",
    "            # Get prediction result\n",
    "            outputs = claim_classification_model(input_ids, attention_mask=attention_mask)\n",
    "            # Get the most relevant result, and return as a list (1 dimension)\n",
    "            predicted_values, predicted_indices = torch.max(outputs.logits, 1)\n",
    "\n",
    "        for i, claim_id in enumerate(claim_ids):\n",
    "            claim_text = claim_texts[i]\n",
    "            top_evidences = evidences[i]\n",
    "\n",
    "            predictions[claim_id] = {\n",
    "                \"claim_text\": claim_text,\n",
    "                \"claim_label\": labelNum_mapping[predicted_indices[i].item()],\n",
    "                \"evidences\": top_evidences\n",
    "            }\n",
    "\n",
    "    with open(output_file, \"w\") as outfile:\n",
    "        json.dump(predictions, outfile, indent=2)\n",
    "\n",
    "# Predictions on dev data\n",
    "dev_dataset = convertPytorchDataset(dev_data, evidence_data, tokenizer)\n",
    "dev_dataloader = DataLoader(dev_dataset, batch_size=batch_size, shuffle=False, collate_fn=collate_fn)\n",
    "save_predictions(claim_classification_model, dev_dataloader, \"dev_claims_out.json\")\n",
    "\n",
    "# Predict on test data\n",
    "test_dataset = convertPytorchDataset(test_data, evidence_data, tokenizer)\n",
    "test_dataloader = DataLoader(test_dataset, batch_size=2, shuffle=False, collate_fn=collate_fn)\n",
    "save_predictions(claim_classification_model, test_dataloader, \"test-claims-predictions.json\", has_labels=False)"
   ]
  }
 ],
 "metadata": {
  "kernelspec": {
   "display_name": "Python 3.8.9 64-bit",
   "language": "python",
   "name": "python3"
  },
  "language_info": {
   "codemirror_mode": {
    "name": "ipython",
    "version": 3
   },
   "file_extension": ".py",
   "mimetype": "text/x-python",
   "name": "python",
   "nbconvert_exporter": "python",
   "pygments_lexer": "ipython3",
   "version": "3.8.16"
  },
  "vscode": {
   "interpreter": {
    "hash": "570feb405e2e27c949193ac68f46852414290d515b0ba6e5d90d076ed2284471"
   }
  }
 },
 "nbformat": 4,
 "nbformat_minor": 2
}
